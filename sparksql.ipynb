{
 "cells": [
  {
   "cell_type": "markdown",
   "metadata": {},
   "source": [
    "# SIADS 516 Homework 4: Spark SQL\n",
    "Version 1.0.20200221.1\n",
    "### Dr. Chris Teplovs, School of Information, University of Michigan\n",
    "<small><a rel=\"license\" href=\"http://creativecommons.org/licenses/by-nc-sa/4.0/\"><img alt=\"Creative Commons License\" style=\"border-width:0\" src=\"https://i.creativecommons.org/l/by-nc-sa/4.0/88x31.png\" /></a>This work is licensed under a <a rel=\"license\" href=\"http://creativecommons.org/licenses/by-nc-sa/4.0/\">Creative Commons Attribution-NonCommercial-ShareAlike 4.0 International License</a>."
   ]
  },
  {
   "cell_type": "markdown",
   "metadata": {},
   "source": [
    "This homework assignment uses the Yelp Academic dataset, with which you should now be familiar.\n",
    "We have created a few cells to get you started, but you're largely on your own to devise solutions to the\n",
    "\"real-world\" questions below.\n",
    "\n",
    "The best solutions will use spark.sql() calls as a preferred way to query the dataset and also use the fewest number of steps.  For example, to find the answer to \"How many users have more than 100 \"cool\" votes?\", this:\n",
    "```\n",
    "query = \"\"\"\n",
    "SELECT count(*) FROM user WHERE cool > 100\n",
    "\"\"\"\n",
    "spark.sql(query).show()\n",
    "```\n",
    "is preferable to:\n",
    "```\n",
    "user.filter('cool > 100').show()\n",
    "```\n",
    "or \n",
    "```\n",
    "query = \"\"\"\n",
    "SELECT * FROM user\n",
    "\"\"\"\n",
    "df = spark.sql(query)\n",
    "df.filter('cool > 100').show()\n",
    "```\n",
    "(Note that the last number is somewhat ridiculous.)"
   ]
  },
  {
   "cell_type": "markdown",
   "metadata": {},
   "source": [
    "Our usual Spark mantra:"
   ]
  },
  {
   "cell_type": "code",
   "execution_count": 107,
   "metadata": {},
   "outputs": [],
   "source": [
    "from pyspark.sql import SparkSession\n",
    "spark = SparkSession \\\n",
    "    .builder \\\n",
    "    .master(\"local[*]\") \\\n",
    "    .appName('My First Spark application') \\\n",
    "    .getOrCreate() \n",
    "\n",
    "sc = spark.sparkContext"
   ]
  },
  {
   "cell_type": "code",
   "execution_count": 108,
   "metadata": {},
   "outputs": [],
   "source": [
    "# Import other required packages for the questions\n",
    "import numpy as np\n",
    "import pandas as pd\n",
    "import pyspark.sql.functions as F\n",
    "from pyspark.sql.functions import col\n",
    "from pyspark.sql.types import *\n",
    "\n",
    "import re\n",
    "import string"
   ]
  },
  {
   "cell_type": "markdown",
   "metadata": {},
   "source": [
    "Load the JSON files:"
   ]
  },
  {
   "cell_type": "code",
   "execution_count": 109,
   "metadata": {},
   "outputs": [],
   "source": [
    "business = spark.read.json('data/yelp_academic/yelp_academic_dataset_business.json.gz')\n",
    "checkin = spark.read.json('data/yelp_academic/yelp_academic_dataset_checkin.json.gz')\n",
    "review = spark.read.json('data/yelp_academic/yelp_academic_dataset_review.json.gz')\n",
    "tip = spark.read.json('data/yelp_academic/yelp_academic_dataset_tip.json.gz')\n",
    "user = spark.read.json('data/yelp_academic/yelp_academic_dataset_user.json.gz')"
   ]
  },
  {
   "cell_type": "markdown",
   "metadata": {},
   "source": [
    "Create temp views for the DataFrames:"
   ]
  },
  {
   "cell_type": "code",
   "execution_count": 110,
   "metadata": {},
   "outputs": [],
   "source": [
    "business.createOrReplaceTempView(\"business\")\n",
    "checkin.createOrReplaceTempView(\"checkin\")\n",
    "tip.createOrReplaceTempView(\"tip\")\n",
    "review.createOrReplaceTempView(\"review\")\n",
    "user.createOrReplaceTempView(\"user\")"
   ]
  },
  {
   "cell_type": "markdown",
   "metadata": {},
   "source": [
    "## Q1. How many users have more than 500 fans?"
   ]
  },
  {
   "cell_type": "code",
   "execution_count": 61,
   "metadata": {},
   "outputs": [
    {
     "name": "stdout",
     "output_type": "stream",
     "text": [
      "root\n",
      " |-- average_stars: double (nullable = true)\n",
      " |-- compliment_cool: long (nullable = true)\n",
      " |-- compliment_cute: long (nullable = true)\n",
      " |-- compliment_funny: long (nullable = true)\n",
      " |-- compliment_hot: long (nullable = true)\n",
      " |-- compliment_list: long (nullable = true)\n",
      " |-- compliment_more: long (nullable = true)\n",
      " |-- compliment_note: long (nullable = true)\n",
      " |-- compliment_photos: long (nullable = true)\n",
      " |-- compliment_plain: long (nullable = true)\n",
      " |-- compliment_profile: long (nullable = true)\n",
      " |-- compliment_writer: long (nullable = true)\n",
      " |-- cool: long (nullable = true)\n",
      " |-- elite: string (nullable = true)\n",
      " |-- fans: long (nullable = true)\n",
      " |-- friends: string (nullable = true)\n",
      " |-- funny: long (nullable = true)\n",
      " |-- name: string (nullable = true)\n",
      " |-- review_count: long (nullable = true)\n",
      " |-- useful: long (nullable = true)\n",
      " |-- user_id: string (nullable = true)\n",
      " |-- yelping_since: string (nullable = true)\n",
      "\n"
     ]
    }
   ],
   "source": [
    "#code block created to inspect elements\n",
    "# user.printSchema()\n",
    "# business.printSchema()\n",
    "# business.show()\n",
    "# review.printSchema()\n",
    "# review.show()\n",
    "# tip.printSchema()\n",
    "# tip.show()"
   ]
  },
  {
   "cell_type": "code",
   "execution_count": 95,
   "metadata": {
    "scrolled": false
   },
   "outputs": [],
   "source": [
    "# insert your code here\n",
    "res1 = spark.sql(\"SELECT COUNT(*) AS user_count FROM user WHERE fans > 500\")\n",
    "q1_ans = res1.head()[0]"
   ]
  },
  {
   "cell_type": "code",
   "execution_count": 6,
   "metadata": {},
   "outputs": [
    {
     "data": {
      "text/plain": [
       "185"
      ]
     },
     "execution_count": 6,
     "metadata": {},
     "output_type": "execute_result"
    }
   ],
   "source": [
    "q1_ans"
   ]
  },
  {
   "cell_type": "markdown",
   "metadata": {},
   "source": [
    "## Q2. How many businesses from Madison, Wisconsin are represented in the dataset?"
   ]
  },
  {
   "cell_type": "code",
   "execution_count": 7,
   "metadata": {},
   "outputs": [],
   "source": [
    "# insert your code here\n",
    "res2 = spark.sql(\"SELECT COUNT(*) AS biz_count FROM business WHERE LOWER(city) = LOWER('Madison') AND state = 'WI' \")\n",
    "q2_ans = res2.head()[0]"
   ]
  },
  {
   "cell_type": "code",
   "execution_count": 8,
   "metadata": {},
   "outputs": [
    {
     "data": {
      "text/plain": [
       "3494"
      ]
     },
     "execution_count": 8,
     "metadata": {},
     "output_type": "execute_result"
    }
   ],
   "source": [
    "q2_ans"
   ]
  },
  {
   "cell_type": "markdown",
   "metadata": {},
   "source": [
    "## Q3: How many users have more than 500 fans?"
   ]
  },
  {
   "cell_type": "code",
   "execution_count": null,
   "metadata": {
    "scrolled": false
   },
   "outputs": [],
   "source": [
    "# insert your code here"
   ]
  },
  {
   "cell_type": "markdown",
   "metadata": {},
   "source": [
    "## Q4: Which US states are represented in the data set?  Use full names of states (you will need to look up the list of state abbreviations is you don't know them)."
   ]
  },
  {
   "cell_type": "code",
   "execution_count": 9,
   "metadata": {},
   "outputs": [],
   "source": [
    "us_states_abbr = [\"AL\",\"AK\",\"AZ\",\"AR\",\"CA\",\"CO\",\"CT\",\"DE\",\"FL\",\"GA\",\"HI\",\"ID\",\"IL\",\"IN\",\"IA\",\"KS\",\"KY\",\"LA\",\"ME\",\"MD\",\"MA\",\"MI\",\"MN\",\"MS\",\"MO\",\"MT\",\"NE\",\"NV\",\"NH\",\"NJ\",\"NM\",\"NY\",\"NC\",\"ND\",\"OH\",\"OK\",\"OR\",\"PA\",\"RI\",\"SC\",\"SD\",\"TN\",\"TX\",\"UT\",\"VT\",\"VA\",\"WA\",\"WV\",\"WI\",\"WY\"]\n",
    "us_states_dict = {\"AL\":\"Alabama\",\"AK\":\"Alaska\",\"AZ\":\"Arizona\",\"AR\":\"Arkansas\",\"CA\":\"California\",\"CO\":\"Colorado\",\"CT\":\"Connecticut\",\"DE\":\"Delaware\",\"FL\":\"Florida\",\"GA\":\"Georgia\",\"HI\":\"Hawaii\",\"ID\":\"Idaho\",\"IL\":\"Illinois\",\"IN\":\"Indiana\",\"IA\":\"Iowa\",\"KS\":\"Kansas\",\"KY\":\"Kentucky\",\"LA\":\"Louisiana\",\"ME\":\"Maine\",\"MD\":\"Maryland\",\"MA\":\"Massachusetts\",\"MI\":\"Michigan\",\"MN\":\"Minnesota\",\"MS\":\"Mississippi\",\"MO\":\"Missouri\",\"MT\":\"Montana\",\"NE\":\"Nebraska\",\"NV\":\"Nevada\",\"NH\":\"New Hampshire\",\"NJ\":\"New Jersey\",\"NM\":\"New Mexico\",\"NY\":\"New York\",\"NC\":\"North Carolina\",\"ND\":\"North Dakota\",\"OH\":\"Ohio\",\"OK\":\"Oklahoma\",\"OR\":\"Oregon\",\"PA\":\"Pennsylvania\",\"RI\":\"Rhode Island\",\"SC\":\"South Carolina\",\"SD\":\"South Dakota\",\"TN\":\"Tennessee\",\"TX\":\"Texas\",\"UT\":\"Utah\",\"VT\":\"Vermont\",\"VA\":\"Virginia\",\"WA\":\"Washington\",\"WV\":\"West Virginia\",\"WI\":\"Wisconsin\",\"WY\":\"Wyoming\"}"
   ]
  },
  {
   "cell_type": "code",
   "execution_count": 10,
   "metadata": {},
   "outputs": [],
   "source": [
    "# insert your code here\n",
    "res4 = spark.sql(\"SELECT DISTINCT state AS state_abbr FROM business\")\n",
    "res4_filtered = res4.where((col(\"state_abbr\").isin(us_states_abbr)))\n",
    "res4_pd = res4_filtered.toPandas()"
   ]
  },
  {
   "cell_type": "code",
   "execution_count": 11,
   "metadata": {},
   "outputs": [
    {
     "data": {
      "text/plain": [
       "['Arizona',\n",
       " 'South Carolina',\n",
       " 'New Jersey',\n",
       " 'Virginia',\n",
       " 'Nevada',\n",
       " 'Wisconsin',\n",
       " 'California',\n",
       " 'Nebraska',\n",
       " 'Connecticut',\n",
       " 'North Carolina',\n",
       " 'Vermont',\n",
       " 'Illinois',\n",
       " 'Washington',\n",
       " 'Alabama',\n",
       " 'Ohio',\n",
       " 'Tennessee',\n",
       " 'New Mexico',\n",
       " 'Pennsylvania',\n",
       " 'New York',\n",
       " 'Texas',\n",
       " 'Georgia',\n",
       " 'Florida',\n",
       " 'Alaska',\n",
       " 'Arkansas',\n",
       " 'Utah']"
      ]
     },
     "execution_count": 11,
     "metadata": {},
     "output_type": "execute_result"
    }
   ],
   "source": [
    "res4_pd[\"State_Name\"] = res4_pd[\"state_abbr\"].map(us_states_dict)\n",
    "q4_ans = res4_pd[\"State_Name\"].tolist()\n",
    "q4_ans"
   ]
  },
  {
   "cell_type": "markdown",
   "metadata": {},
   "source": [
    "## Q5: What is the text of the funniest review?"
   ]
  },
  {
   "cell_type": "code",
   "execution_count": 25,
   "metadata": {},
   "outputs": [],
   "source": [
    "# insert your code here\n",
    "r5_query = \"\"\"\n",
    "SELECT funny AS funny_ratings, text \n",
    "FROM review \n",
    "WHERE funny = (SELECT MAX(funny) FROM review)\n",
    "\"\"\"\n",
    "res5 = spark.sql(r5_query)\n",
    "q5_ans = res5.head()[1]"
   ]
  },
  {
   "cell_type": "code",
   "execution_count": 26,
   "metadata": {},
   "outputs": [
    {
     "data": {
      "text/plain": [
       "\"Flew to Arizona a few months ago to try this. Disappointed that this place closed after Gordon Ramsay's return. Their food was one of the best food I had in my whole entire life!! Their caesar salad was great, sauce is very good. Their pizza was THE BEST I HAD IN MY WHOLE ENTIRE LIFE. From the garlic crust to the extremely cheesy topping, the pizza was absolutely outstanding. Wish I could come back but its now closed.\""
      ]
     },
     "execution_count": 26,
     "metadata": {},
     "output_type": "execute_result"
    }
   ],
   "source": [
    "q5_ans"
   ]
  },
  {
   "cell_type": "markdown",
   "metadata": {},
   "source": [
    "## Q6: Which review(s) has/have the most words?  What do you notice about the maximum word count?"
   ]
  },
  {
   "cell_type": "code",
   "execution_count": 104,
   "metadata": {},
   "outputs": [
    {
     "name": "stdout",
     "output_type": "stream",
     "text": [
      "+-----+------------------------------------------------------+\n",
      "|Seqno|Name                                                  |\n",
      "+-----+------------------------------------------------------+\n",
      "|1000 |john jones john jones john jones john jones john jones|\n",
      "|299  |tracey smith                                          |\n",
      "|30   |amy sanders                                           |\n",
      "+-----+------------------------------------------------------+\n",
      "\n"
     ]
    }
   ],
   "source": [
    "columns = [\"Seqno\",\"Name\"]\n",
    "data = [(\"1000\", \"john jones john jones john jones john jones john jones\"),\n",
    "    (\"299\", \"tracey smith\"),\n",
    "    (\"30\", \"amy sanders\")]\n",
    "\n",
    "df = spark.createDataFrame(data=data,schema=columns)\n",
    "\n",
    "def text_count_split(text):\n",
    "    return len(text.split()), text\n"
   ]
  },
  {
   "cell_type": "code",
   "execution_count": 105,
   "metadata": {},
   "outputs": [],
   "source": [
    "# insert your code here\n",
    "# Here I apply word count functions with the conventional .split() method and regular expression.\n",
    "\n",
    "def text_count_split(text):\n",
    "    return len(text.split())\n",
    "\n",
    "def text_count_regex(text):\n",
    "    return len(re.findall(r'[\\w]+', text))\n",
    "\n",
    "def text_count_sumstrip(text):\n",
    "    return sum([i.strip(string.punctuation).isalpha() for i in\n",
    "text.split()])\n",
    "\n",
    "\n",
    "udf_text_count1 = F.udf(lambda x: text_count_split(x), IntegerType())\n",
    "udf_text_count2 = F.udf(lambda x: text_count_regex(x), IntegerType())\n",
    "udf_text_count3 = F.udf(lambda x: text_count_sumstrip(x), IntegerType())\n",
    "\n",
    "# After the first iteration I have noticed that the word count capped at 999. When I inspected the corresponding DF it shows the collumn datatype was string, the I looked it up and found out we should also assign the default datatype when registering the udf function for SQL.\n",
    "\n",
    "\n",
    "spark.udf.register('udf_text_count1',text_count_split, IntegerType())\n",
    "spark.udf.register('udf_text_count2',text_count_regex, IntegerType())\n",
    "spark.udf.register('udf_text_count3',text_count_sumstrip, IntegerType())\n",
    "\n",
    "r6_query_1 = \"\"\"\n",
    "SELECT udf_text_count1(text) AS word_count, text\n",
    "FROM review \n",
    "ORDER BY word_count DESC\n",
    "\"\"\"\n",
    "\n",
    "r6_query_2 = \"\"\"\n",
    "SELECT udf_text_count2(text) AS word_count, text\n",
    "FROM review \n",
    "ORDER BY word_count DESC\n",
    "\"\"\"\n",
    "\n",
    "\n",
    "r6_query_3 = \"\"\"\n",
    "SELECT udf_text_count3(text) AS word_count, text\n",
    "FROM review \n",
    "ORDER BY word_count DESC\n",
    "\"\"\"\n",
    "\n",
    "res6_1 = spark.sql(r6_query_1)\n",
    "res6_2 = spark.sql(r6_query_2)\n"
   ]
  },
  {
   "cell_type": "code",
   "execution_count": 111,
   "metadata": {},
   "outputs": [
    {
     "name": "stdout",
     "output_type": "stream",
     "text": [
      "+----------+--------------------+\n",
      "|word_count|                text|\n",
      "+----------+--------------------+\n",
      "|      1056|They asked me to ...|\n",
      "|      1052|I made my appoint...|\n",
      "|      1051|CAUTION!!!!!! DO ...|\n",
      "|      1051|Where do I even s...|\n",
      "|      1049|If I could negati...|\n",
      "|      1049|Should have come ...|\n",
      "|      1041|This place is HOR...|\n",
      "|      1041|This place was on...|\n",
      "|      1034|We stayed here th...|\n",
      "|      1031|i have never been...|\n",
      "|      1029|So I walked into ...|\n",
      "|      1029|I had the worst e...|\n",
      "|      1028|NOW THAT'S A KNIF...|\n",
      "|      1028|Our experience he...|\n",
      "|      1027|I originally went...|\n",
      "|      1026|I have lived ther...|\n",
      "|      1025|The reason I'm gi...|\n",
      "|      1025|If i could i woul...|\n",
      "|      1025|After my horrible...|\n",
      "|      1024|This is Thomas Sl...|\n",
      "+----------+--------------------+\n",
      "only showing top 20 rows\n",
      "\n",
      "+----------+--------------------+\n",
      "|word_count|                text|\n",
      "+----------+--------------------+\n",
      "|      1097|Went in Sunday 12...|\n",
      "|      1083|They asked me to ...|\n",
      "|      1069|Where do I even s...|\n",
      "|      1067|This place was on...|\n",
      "|      1063|This place is HOR...|\n",
      "|      1063|So I take my stre...|\n",
      "|      1062|The reason I'm gi...|\n",
      "|      1060|We stayed here th...|\n",
      "|      1060|SAD TO SAY FOR ME...|\n",
      "|      1060|I'm 16 weeks alon...|\n",
      "|      1059|CAUTION!!!!!! DO ...|\n",
      "|      1059|If I could negati...|\n",
      "|      1058|Ashley's has the ...|\n",
      "|      1057|So I take my stre...|\n",
      "|      1054|A little history ...|\n",
      "|      1053|I wish I could gi...|\n",
      "|      1053|I wish I could gi...|\n",
      "|      1053|I made my appoint...|\n",
      "|      1052|I went in last ni...|\n",
      "|      1051|I had the worst e...|\n",
      "+----------+--------------------+\n",
      "only showing top 20 rows\n",
      "\n"
     ]
    }
   ],
   "source": [
    "res6_1.show()\n",
    "res6_2.show()"
   ]
  },
  {
   "cell_type": "code",
   "execution_count": 108,
   "metadata": {},
   "outputs": [
    {
     "data": {
      "text/plain": [
       "\"They asked me to bring my dog back after they Killed her & hoped I had a great visit..!! They are so on organized and thoughtless to ask me to bring my dog in after the killer and they charged me twice the kill my dog.  I never finished telling how they killed my dog they kept my dog overnight because they were closing,I only went there to get her yr. shots but they were closing & said keep her overnight & we will give u the blood results in the Morning,I paid $260 for the visit & Blood they call me at 6am in the morning & tell me they won't give me the results unless I come down & give them a credit card so I just gave them my card over the phone & signed a form of any problems they can take care of it from X-Rays to pills,so now they have my card & say my dog has a temp. Of 104* news to me..!! She was perfect going in..!! So they said she had a blood infection & need to keep her overnight again to put her on IV, the next day the Vet calls & said come get your dog rt. Now for I'm the only Vet on call to do surgery witch was fine with me because I wanted my dog, I jumped in the car 3 mins later the Vet called & said my dog is dead or passed in 3 mins, I couldn't talk.!!? They just asked me to come get my dog she alright to come get & 3-5 mins later the Vet called to tell me she's passed.. HOW.? In 3-5 mins ago she was fine,well she said they took her outside to go to the bathroom & she just fell over by the way I was on my way it was the hottest day that summer 117.* & she had a temp. Supposedly so I asked how did she die and she replied well you know I try to revive her and that also cost 3K and you signed for us to check her out but you never sign for x-rays I said yes I did and then the vet looked and said oh yeah you did but that didn't matter anyhow I found the lump in her stomach and him it had to be cancer in her stomach I was given a cancer and Mike sign for trays but you didn't do it and you're charging me $3000 to revive her and another 2000 to keep her overnight the last two nights Friday and only came in there for $22 shots my dog they killed before they called me to tell me she fell over you not call someone and tell them your dog is OK come get her and then she die three minutes later I'm driving in the car all happy to get my dog in my car & then say she's dead they just gave me The call to say my dog is OK come get her after they charge my credit card up to $7000 that place should be shut down...!!  I brought my dog in for $22 shots and end up leaving on over $7000 they took off my credit card and killed my dog and lied about the x-rays which I signed for and then she came up with excuses? oh yeah you did but it was cancer in the stomach my dog was perfectly fine before I brought her in & I  just brought her in for her yearly shots that place should not be standing they took my dogs life they kept her there to run up the bill, i've been so upset I couldn't go back into that place and they had enough nerve to send me a letter stating I hope your dog had a nice visit bring her back in next month on this day oh my God it this place is relentless how that place works so on organized.!! they just killed my dog and they're saying bring her back in. They lied about how she died and said I didn't sign for x-rays which I did and she looked that I signed for it and they charge me & took it off my credit card,it didn't matter by the way because  the next excuse was m=well I did fill up under her & it was a lump of cancer and like I couldn't talk? They just said my dog was fine come pick her up..!! My dog was like family and I cannot go back in that place at that time but I will try to shut them down. It was just too overwhelming what happened to me that just doesn't happen you take her dog in for shots excuse one day For more $ excuse today's another credit card $3000 bucks come get your dog she's fine I'm in the car three minutes later your dogs passed a try to revive her but another $4000 by the way. not 1 sincere or I'm sorry. I've been in shock over this..!!  It's like a pyramid scam there and they're all in it you got to sign this or we won't do this you got paid this before this and then you pay that for that but we won't give you results in less you give us more money and then we got to do this because of this and then this because of this more money OK your dog is fine come get her I'm happy she's OK three minutes later your dog passed I'm sorry try to revive her 4000 more dollars what do you want to do with your dog cremator this that I could walk in the place I was so upset and mad I couldn't go in there I just couldn't but now I've never written a review this is my first one and I own horses, dogs, saltwater tanks..!! I love animals in that place the vets are all about scaring you out of money but the thing is if they scare me out of money is one thing but killing your animal to do it no I talked to a lady today her dogs on life-support,she's  going through the same thing I did?????????!?\""
      ]
     },
     "execution_count": 108,
     "metadata": {},
     "output_type": "execute_result"
    }
   ],
   "source": [
    "# Assuming that we should use the .split() method, as [\\w]+ in regex could not take care of the words with apostrophes:\n",
    "\n",
    "q6_ans = res6_1.head()[1]\n",
    "q6_ans"
   ]
  },
  {
   "cell_type": "markdown",
   "metadata": {},
   "source": [
    "## Q7: What are the names of the top 10 users who provided the most tips?"
   ]
  },
  {
   "cell_type": "markdown",
   "metadata": {},
   "source": [
    "root\n",
    " |-- business_id: string (nullable = true)\n",
    " |-- compliment_count: long (nullable = true)\n",
    " |-- date: string (nullable = true)\n",
    " |-- text: string (nullable = true)\n",
    " |-- user_id: string (nullable = true)\n",
    "    "
   ]
  },
  {
   "cell_type": "code",
   "execution_count": 56,
   "metadata": {},
   "outputs": [],
   "source": [
    "# insert your code here\n",
    "\n",
    "r7_query = \"\"\"\n",
    "SELECT tip.user_id, user.name, COUNT(tip.user_id) AS tips_count\n",
    "FROM tip \n",
    "LEFT JOIN user\n",
    "ON tip.user_id = user.user_id\n",
    "GROUP BY tip.user_id, user.name\n",
    "ORDER BY tips_count DESC\n",
    "\"\"\"\n",
    "\n",
    "res7_1 = spark.sql(r7_query)\n",
    "q7_ans = res7_1.limit(10)"
   ]
  },
  {
   "cell_type": "code",
   "execution_count": 57,
   "metadata": {},
   "outputs": [
    {
     "name": "stdout",
     "output_type": "stream",
     "text": [
      "+--------------------+--------+----------+\n",
      "|             user_id|    name|tips_count|\n",
      "+--------------------+--------+----------+\n",
      "|mkbx55W8B8aPLgDqe...|    Momo|      2439|\n",
      "|CxDOIDnH8gp9KXzpB...|Jennifer|      1598|\n",
      "|6ZC-0LfOAGwaFc5XP...|Samantha|      1509|\n",
      "|0tvCcnfJnSs55iB6m...|  Daniel|      1376|\n",
      "|eZfHm0qI8A_HfvXSc...|Christie|      1352|\n",
      "|O8eDScRAg6ae0l9Bc...|     May|      1255|\n",
      "|8DGFWco9VeBAxjqsu...|   Kurdy|      1178|\n",
      "|WJKocp9RE0KatUwh3...| Anthony|      1161|\n",
      "|2EuPAGalYnP7eSxPg...| Shirley|      1154|\n",
      "|QPJJohtGqkMkaN0Gt...| Cherrie|      1017|\n",
      "+--------------------+--------+----------+\n",
      "\n"
     ]
    }
   ],
   "source": [
    "#Showing the top 10 users with the most count user id in tip dataset\n",
    "q7_ans.show()"
   ]
  },
  {
   "cell_type": "markdown",
   "metadata": {},
   "source": [
    "## Q8: List the names, number of reviews of businesses in Arizona and total number of reviews of the top 5 users (as determined by who has created the most number of reviews of businesses in Arizona).  Include a column that shows the percentage of reviews that are of businesses from Arizona.  The first row of the results should be:\n",
    "```\n",
    "+--------+--------+-----------+---------+\n",
    "|    name|az_count|total_count|  percent|\n",
    "+--------+--------+-----------+---------+\n",
    "|    Brad|    1637|       1642|99.695496|\n",
    "+--------+--------+-----------+---------+\n",
    "```"
   ]
  },
  {
   "cell_type": "markdown",
   "metadata": {},
   "source": [
    "### who has created the most number of reviews of businesses in Arizona?\n",
    "\n",
    "count the user ids in reivew, then join the business table where business's state = \"AZ\", group by username and user id, order by count of user_id descending and limt to 5.\n",
    "\n",
    "#### user schema\n",
    "root\n",
    " |-- average_stars: double (nullable = true)\n",
    " |-- compliment_cool: long (nullable = true)\n",
    " |-- compliment_cute: long (nullable = true)\n",
    " |-- compliment_funny: long (nullable = true)\n",
    " |-- compliment_hot: long (nullable = true)\n",
    " |-- compliment_list: long (nullable = true)\n",
    " |-- compliment_more: long (nullable = true)\n",
    " |-- compliment_note: long (nullable = true)\n",
    " |-- compliment_photos: long (nullable = true)\n",
    " |-- compliment_plain: long (nullable = true)\n",
    " |-- compliment_profile: long (nullable = true)\n",
    " |-- compliment_writer: long (nullable = true)\n",
    " |-- cool: long (nullable = true)\n",
    " |-- elite: string (nullable = true)\n",
    " |-- fans: long (nullable = true)\n",
    " |-- friends: string (nullable = true)\n",
    " |-- funny: long (nullable = true)\n",
    " |-- name: string (nullable = true)\n",
    " |-- review_count: long (nullable = true)\n",
    " |-- useful: long (nullable = true)\n",
    " |-- user_id: string (nullable = true)\n",
    " |-- yelping_since: string (nullable = true)\n",
    "\n",
    "\n",
    "#### review schema\n",
    "root\n",
    " |-- business_id: string (nullable = true)\n",
    " |-- cool: long (nullable = true)\n",
    " |-- date: string (nullable = true)\n",
    " |-- funny: long (nullable = true)\n",
    " |-- review_id: string (nullable = true)\n",
    " |-- stars: double (nullable = true)\n",
    " |-- text: string (nullable = true)\n",
    " |-- useful: long (nullable = true)\n",
    " |-- user_id: string (nullable = true)\n",
    "\n",
    "#### business schema\n",
    "\n",
    "root\n",
    " |-- address: string (nullable = true)\n",
    " |-- attributes: struct (nullable = true)\n",
    " |    |-- AcceptsInsurance: string (nullable = true)\n",
    " |    |-- AgesAllowed: string (nullable = true)\n",
    " |    |-- Alcohol: string (nullable = true)\n",
    " |    |-- Ambience: string (nullable = true)\n",
    " |    |-- BYOB: string (nullable = true)\n",
    " |    |-- BYOBCorkage: string (nullable = true)\n",
    " |    |-- BestNights: string (nullable = true)\n",
    " |    |-- BikeParking: string (nullable = true)\n",
    " |    |-- BusinessAcceptsBitcoin: string (nullable = true)\n",
    " |    |-- BusinessAcceptsCreditCards: string (nullable = true)\n",
    " |    |-- BusinessParking: string (nullable = true)\n",
    " |    |-- ByAppointmentOnly: string (nullable = true)\n",
    " |    |-- Caters: string (nullable = true)\n",
    " |    |-- CoatCheck: string (nullable = true)\n",
    " |    |-- Corkage: string (nullable = true)\n",
    " |    |-- DietaryRestrictions: string (nullable = true)\n",
    " |    |-- DogsAllowed: string (nullable = true)\n",
    " |    |-- DriveThru: string (nullable = true)\n",
    " |    |-- GoodForDancing: string (nullable = true)\n",
    " |    |-- GoodForKids: string (nullable = true)\n",
    " |    |-- GoodForMeal: string (nullable = true)\n",
    " |    |-- HairSpecializesIn: string (nullable = true)\n",
    " |    |-- HappyHour: string (nullable = true)\n",
    " |    |-- HasTV: string (nullable = true)\n",
    " |    |-- Music: string (nullable = true)\n",
    " |    |-- NoiseLevel: string (nullable = true)\n",
    " |    |-- Open24Hours: string (nullable = true)\n",
    " |    |-- OutdoorSeating: string (nullable = true)\n",
    " |    |-- RestaurantsAttire: string (nullable = true)\n",
    " |    |-- RestaurantsCounterService: string (nullable = true)\n",
    " |    |-- RestaurantsDelivery: string (nullable = true)\n",
    " |    |-- RestaurantsGoodForGroups: string (nullable = true)\n",
    " |    |-- RestaurantsPriceRange2: string (nullable = true)\n",
    " |    |-- RestaurantsReservations: string (nullable = true)\n",
    " |    |-- RestaurantsTableService: string (nullable = true)\n",
    " |    |-- RestaurantsTakeOut: string (nullable = true)\n",
    " |    |-- Smoking: string (nullable = true)\n",
    " |    |-- WheelchairAccessible: string (nullable = true)\n",
    " |    |-- WiFi: string (nullable = true)\n",
    " |-- business_id: string (nullable = true)\n",
    " |-- categories: string (nullable = true)\n",
    " |-- city: string (nullable = true)\n",
    " |-- hours: struct (nullable = true)\n",
    " |    |-- Friday: string (nullable = true)\n",
    " |    |-- Monday: string (nullable = true)\n",
    " |    |-- Saturday: string (nullable = true)\n",
    " |    |-- Sunday: string (nullable = true)\n",
    " |    |-- Thursday: string (nullable = true)\n",
    " |    |-- Tuesday: string (nullable = true)\n",
    " |    |-- Wednesday: string (nullable = true)\n",
    " |-- is_open: long (nullable = true)\n",
    " |-- latitude: double (nullable = true)\n",
    " |-- longitude: double (nullable = true)\n",
    " |-- name: string (nullable = true)\n",
    " |-- postal_code: string (nullable = true)\n",
    " |-- review_count: long (nullable = true)\n",
    " |-- stars: double (nullable = true)\n",
    " |-- state: string (nullable = true)"
   ]
  },
  {
   "cell_type": "code",
   "execution_count": 111,
   "metadata": {},
   "outputs": [],
   "source": [
    "# insert your code here\n",
    "r8_query_1 = \"\"\"\n",
    "SELECT user.name AS name, COUNT(review.user_id) AS az_count, review.user_id, business.state\n",
    "FROM business\n",
    "INNER JOIN review\n",
    "ON business.business_id = review.business_id\n",
    "INNER JOIN user\n",
    "ON review.user_id = user.user_id\n",
    "GROUP BY review.user_id, user.name, business.state\n",
    "HAVING business.state = 'AZ'\n",
    "ORDER BY az_count DESC\n",
    "LIMIT 5\n",
    "\"\"\"\n",
    "\n",
    "r8_query_2 = \"\"\"\n",
    "SELECT COUNT(review.user_id) AS total_count, review.user_id\n",
    "FROM business\n",
    "INNER JOIN review\n",
    "ON business.business_id = review.business_id\n",
    "INNER JOIN user\n",
    "ON review.user_id = user.user_id\n",
    "GROUP BY review.user_id\n",
    "ORDER BY total_count DESC\n",
    "\"\"\"\n",
    "\n",
    "res8_1 = spark.sql(r8_query_1)\n",
    "res8_2 = spark.sql(r8_query_2)\n",
    "res8_3 = res8_1.join(res8_2, on=['user_id'], how='inner')"
   ]
  },
  {
   "cell_type": "code",
   "execution_count": 112,
   "metadata": {},
   "outputs": [
    {
     "name": "stdout",
     "output_type": "stream",
     "text": [
      "+--------+--------+-----------+-----------------+\n",
      "|    name|az_count|total_count|          percent|\n",
      "+--------+--------+-----------+-----------------+\n",
      "|    Brad|    1637|       1764|92.80045351473923|\n",
      "|   Karen|    1559|       1727|90.27214823393167|\n",
      "|Jennifer|    1250|       1360|91.91176470588235|\n",
      "|Jennifer|    1059|       1255|84.38247011952191|\n",
      "|    Gabi|    1151|       1198|96.07679465776295|\n",
      "+--------+--------+-----------+-----------------+\n",
      "\n"
     ]
    }
   ],
   "source": [
    "# The total_count here is based the aggregation from the count of user_ids based on the review table:\n",
    "q8_ans_1 = res8_3.drop(*['user_id', 'state'])\n",
    "q8_ans_1 = q8_ans_1.withColumn('percent', col('az_count') / col('total_count') *100)\n",
    "q8_ans_1.show()"
   ]
  },
  {
   "cell_type": "code",
   "execution_count": null,
   "metadata": {},
   "outputs": [],
   "source": [
    "q8_ans_1.show()"
   ]
  },
  {
   "cell_type": "code",
   "execution_count": 113,
   "metadata": {},
   "outputs": [
    {
     "name": "stdout",
     "output_type": "stream",
     "text": [
      "+--------+--------+-----------+------------------+\n",
      "|    name|az_count|total_count|           percent|\n",
      "+--------+--------+-----------+------------------+\n",
      "|    Brad|    1637|       1642| 99.69549330085262|\n",
      "|   Karen|    1559|       2340| 66.62393162393163|\n",
      "|Jennifer|    1250|       1929| 64.80041472265422|\n",
      "|    Gabi|    1151|       1932| 59.57556935817805|\n",
      "|Jennifer|    1059|       4190|25.274463007159902|\n",
      "+--------+--------+-----------+------------------+\n",
      "\n"
     ]
    }
   ],
   "source": [
    "# Another solutuin I would use is the review_count as the source:\n",
    "r8_query_3 = \"\"\"\n",
    "SELECT user.name AS name, COUNT(review.user_id) AS az_count, user.review_count AS total_count, review.user_id, business.state\n",
    "FROM business\n",
    "INNER JOIN review\n",
    "ON business.business_id = review.business_id\n",
    "INNER JOIN user\n",
    "ON review.user_id = user.user_id\n",
    "GROUP BY review.user_id, user.name, business.state, total_count\n",
    "HAVING business.state = 'AZ'\n",
    "ORDER BY az_count DESC\n",
    "LIMIT 5\n",
    "\"\"\"\n",
    "\n",
    "res8_4 = spark.sql(r8_query_3)\n",
    "q8_ans_2 = res8_4.drop(*['user_id', 'state'])\n",
    "q8_ans_2 = q8_ans_2.withColumn('percent', col('az_count') / col('total_count') *100)\n",
    "q8_ans_2.show()"
   ]
  },
  {
   "cell_type": "code",
   "execution_count": null,
   "metadata": {},
   "outputs": [],
   "source": []
  }
 ],
 "metadata": {
  "kernelspec": {
   "display_name": "Python 3",
   "language": "python",
   "name": "python3"
  },
  "language_info": {
   "codemirror_mode": {
    "name": "ipython",
    "version": 3
   },
   "file_extension": ".py",
   "mimetype": "text/x-python",
   "name": "python",
   "nbconvert_exporter": "python",
   "pygments_lexer": "ipython3",
   "version": "3.7.3"
  }
 },
 "nbformat": 4,
 "nbformat_minor": 2
}
