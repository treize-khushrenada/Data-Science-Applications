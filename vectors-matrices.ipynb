{
 "cells": [
  {
   "cell_type": "markdown",
   "metadata": {
    "deletable": false,
    "editable": false,
    "nbgrader": {
     "checksum": "0b5b01d755e4b354b68dc25dc0c88147",
     "grade": false,
     "grade_id": "cell-f3fdc0fa380444ef",
     "locked": true,
     "schema_version": 1,
     "solution": false
    }
   },
   "source": [
    "# SIDAS502: Math Methods for Data Science \n",
    "\n",
    "\n",
    "# School of Information, University of Michigan\n",
    "\n",
    "\n",
    "## Week1: Vectors and Matrices Computation/Basic image processing \n",
    "\n",
    "### Version 1.1\n",
    "\n",
    "This assignment is designed to let you apply basic concepts and perform basic algebra operations using vectors and matrices in Python. We will use Jupyter Notebooks to organize and submit your assignment. Please read the directions carefully, as we want to avoid submissions that are marked incorrect due to formatting mistakes. You will use vector and matrix computation using numpy and image processing with openCV. \n",
    "\n",
    "- Submit the following code at the beginning of your assignment:\n",
    "- import pandas as pd\n",
    "- import numpy as np\n",
    "- from scipy.ndimage import zoom\n",
    "- import unittest"
   ]
  },
  {
   "cell_type": "markdown",
   "metadata": {},
   "source": [
    "Please enter your name: \"Arthur Cho Ka Wai\""
   ]
  },
  {
   "cell_type": "markdown",
   "metadata": {
    "deletable": false,
    "editable": false,
    "nbgrader": {
     "checksum": "d1e624b80851e66f14bc204c7cae99a3",
     "grade": false,
     "grade_id": "cell-b7c9b5edc2f19376",
     "locked": true,
     "schema_version": 1,
     "solution": false
    }
   },
   "source": [
    "## Part 1: Vector  Computation"
   ]
  },
  {
   "cell_type": "markdown",
   "metadata": {
    "deletable": false,
    "editable": false,
    "nbgrader": {
     "checksum": "999c860a20bb0cd24b365329757fb17b",
     "grade": false,
     "grade_id": "cell-139c07b4cd02fc78",
     "locked": true,
     "schema_version": 1,
     "solution": false
    }
   },
   "source": [
    "<strong>1.1</strong> \\[1 pt\\] Please write a function called <strong>computation</strong> that takes three variables called <strong>a(integer), v1(vector represented as a list)</strong> and <strong>v2(vector represented as a list)</strong> and returns a dictionary that has six keys: <strong>addition</strong> (the sum of v1 and v2, this should be a numpy array), <strong>subtraction</strong> (the difference from subtracting v2 from v1, this should be a numpy array), <strong>scale</strong> (scalling v1 by a, this should be a numpy array), <strong>dot</strong> (dot product of v1 and v2, this should be a float), <strong>length</strong> (norm of v1, this should be a float), and <strong>cross</strong> (cross product of v1 and v2, this should be a numpy array)."
   ]
  },
  {
   "cell_type": "code",
   "execution_count": 2,
   "metadata": {},
   "outputs": [],
   "source": [
    "import pandas as pd\n",
    "import numpy as np\n",
    "from scipy.ndimage import zoom\n",
    "import unittest"
   ]
  },
  {
   "cell_type": "code",
   "execution_count": null,
   "metadata": {
    "deletable": false,
    "nbgrader": {
     "checksum": "e152d1cf91732a7af09bcc463e8fac63",
     "grade": false,
     "grade_id": "cell-22c5340398fc526a",
     "locked": false,
     "schema_version": 1,
     "solution": true
    }
   },
   "outputs": [],
   "source": [
    "def computation(a,v1,v2):\n",
    "    # YOUR CODE HERE\n",
    "    raise NotImplementedError()"
   ]
  },
  {
   "cell_type": "code",
   "execution_count": null,
   "metadata": {
    "deletable": false,
    "editable": false,
    "nbgrader": {
     "checksum": "8c0e653c123fd51e3fa792d713b3c8fc",
     "grade": true,
     "grade_id": "cell-f4a2e31983c60a0a",
     "locked": true,
     "points": 1,
     "schema_version": 1,
     "solution": false
    }
   },
   "outputs": [],
   "source": [
    "#hidden tests for problem 1.1 are within this cell"
   ]
  },
  {
   "cell_type": "markdown",
   "metadata": {
    "deletable": false,
    "editable": false,
    "nbgrader": {
     "checksum": "eed68c327976d70661e7a42bdc0ff295",
     "grade": false,
     "grade_id": "cell-60bc50247805bc0d",
     "locked": true,
     "schema_version": 1,
     "solution": false
    }
   },
   "source": [
    "Below is the example of a=1, v1=[1,6] and v2=[8,-3] by the computation method. Please run the code, play around the numbers, and see the result."
   ]
  },
  {
   "cell_type": "code",
   "execution_count": 3,
   "metadata": {},
   "outputs": [
    {
     "output_type": "error",
     "ename": "NameError",
     "evalue": "name 'computation' is not defined",
     "traceback": [
      "\u001b[0;31m---------------------------------------------------------------------------\u001b[0m",
      "\u001b[0;31mNameError\u001b[0m                                 Traceback (most recent call last)",
      "\u001b[0;32m<ipython-input-3-f6ca6d631e70>\u001b[0m in \u001b[0;36m<module>\u001b[0;34m\u001b[0m\n\u001b[1;32m      1\u001b[0m \u001b[0mv1\u001b[0m\u001b[0;34m=\u001b[0m\u001b[0;34m[\u001b[0m\u001b[0;36m1\u001b[0m\u001b[0;34m,\u001b[0m\u001b[0;36m6\u001b[0m\u001b[0;34m]\u001b[0m\u001b[0;34m\u001b[0m\u001b[0;34m\u001b[0m\u001b[0m\n\u001b[1;32m      2\u001b[0m \u001b[0mv2\u001b[0m\u001b[0;34m=\u001b[0m\u001b[0;34m[\u001b[0m\u001b[0;36m8\u001b[0m\u001b[0;34m,\u001b[0m\u001b[0;34m-\u001b[0m\u001b[0;36m3\u001b[0m\u001b[0;34m]\u001b[0m\u001b[0;34m\u001b[0m\u001b[0;34m\u001b[0m\u001b[0m\n\u001b[0;32m----> 3\u001b[0;31m \u001b[0mresult\u001b[0m \u001b[0;34m=\u001b[0m \u001b[0mcomputation\u001b[0m\u001b[0;34m(\u001b[0m\u001b[0;36m1\u001b[0m\u001b[0;34m,\u001b[0m\u001b[0mv1\u001b[0m\u001b[0;34m,\u001b[0m\u001b[0mv2\u001b[0m\u001b[0;34m)\u001b[0m\u001b[0;34m\u001b[0m\u001b[0;34m\u001b[0m\u001b[0m\n\u001b[0m\u001b[1;32m      4\u001b[0m \u001b[0mprint\u001b[0m\u001b[0;34m(\u001b[0m\u001b[0mresult\u001b[0m\u001b[0;34m)\u001b[0m\u001b[0;34m\u001b[0m\u001b[0;34m\u001b[0m\u001b[0m\n",
      "\u001b[0;31mNameError\u001b[0m: name 'computation' is not defined"
     ]
    }
   ],
   "source": [
    "v1=[1,6]\n",
    "v2=[8,-3]\n",
    "result = computation(1,v1,v2)\n",
    "print(result)"
   ]
  },
  {
   "cell_type": "markdown",
   "metadata": {
    "deletable": false,
    "editable": false,
    "nbgrader": {
     "checksum": "18d64d44f85863c810e60934f710da75",
     "grade": false,
     "grade_id": "cell-f10838e0e8c52b21",
     "locked": true,
     "schema_version": 1,
     "solution": false
    }
   },
   "source": [
    "<strong>1.2</strong> \\[1 pt\\] What is the dimension of v3? Please store the v3 dimension into variable <strong>v3_dimen</strong> using numpy.\n",
    "\n",
    "For grading purposes, `v2_dimen` should be type `tuple`."
   ]
  },
  {
   "cell_type": "code",
   "execution_count": 9,
   "metadata": {
    "deletable": false,
    "nbgrader": {
     "checksum": "2fe4b2a97fd0196312f4771256f1940d",
     "grade": false,
     "grade_id": "cell-3c74940585fa0a97",
     "locked": false,
     "schema_version": 1,
     "solution": true
    }
   },
   "outputs": [
    {
     "output_type": "execute_result",
     "data": {
      "text/plain": [
       "(2,)"
      ]
     },
     "metadata": {},
     "execution_count": 9
    }
   ],
   "source": [
    "v3 = np.array([5, 4])\n",
    "\n",
    "\n",
    "# YOUR CODE HERE\n",
    "#raise NotImplementedError()\n",
    "v3_dimen"
   ]
  },
  {
   "cell_type": "code",
   "execution_count": null,
   "metadata": {
    "deletable": false,
    "editable": false,
    "nbgrader": {
     "checksum": "9bf9a3d9c11ea7a51cfee08a74a5f032",
     "grade": true,
     "grade_id": "cell-667a0fabd0b24a44",
     "locked": true,
     "points": 1,
     "schema_version": 1,
     "solution": false
    }
   },
   "outputs": [],
   "source": [
    "assert type(v3_dimen) == tuple, \"Problem 1.2, testing v3_dimen, type of value stored in variable does not match the expected type. Expecting Tuple.\""
   ]
  },
  {
   "cell_type": "markdown",
   "metadata": {
    "deletable": false,
    "editable": false,
    "nbgrader": {
     "checksum": "9192440266fb78e812d67a18ea025bd1",
     "grade": false,
     "grade_id": "cell-470cf5f2c5ad9cb2",
     "locked": true,
     "schema_version": 1,
     "solution": false
    }
   },
   "source": [
    "<strong>1.3</strong> \\[1 pt\\] What is the v4 dimension? Please store the v4 dimension into variable <strong>v4_dimen</strong> using numpy.\n",
    "\n",
    "For grading purposes, `v4_dimen` should be type `tuple`."
   ]
  },
  {
   "cell_type": "code",
   "execution_count": null,
   "metadata": {
    "deletable": false,
    "nbgrader": {
     "checksum": "e5c733eb8929d0ff6fca1b3c8da38cdc",
     "grade": false,
     "grade_id": "cell-d41c577a699b60e7",
     "locked": false,
     "schema_version": 1,
     "solution": true
    }
   },
   "outputs": [],
   "source": [
    "v4 = np.array([1,  2,  3, 4, 5])\n",
    "\n",
    "v4_dimen=None\n",
    "# YOUR CODE HERE\n",
    "raise NotImplementedError()"
   ]
  },
  {
   "cell_type": "code",
   "execution_count": null,
   "metadata": {
    "deletable": false,
    "editable": false,
    "nbgrader": {
     "checksum": "04bb9764ba6f610c8495e330312c80a1",
     "grade": true,
     "grade_id": "cell-d32bdb8279f75fb8",
     "locked": true,
     "points": 1,
     "schema_version": 1,
     "solution": false
    }
   },
   "outputs": [],
   "source": [
    "assert type(v4_dimen) == tuple,  \"Problem 1.3, testing v4_dimen, type of value stored in variable does not match the expected type. Expecting Tuple.\""
   ]
  },
  {
   "cell_type": "markdown",
   "metadata": {
    "deletable": false,
    "editable": false,
    "nbgrader": {
     "checksum": "90663f89760d538564338fd1eb097b27",
     "grade": false,
     "grade_id": "cell-760c30326a182b32",
     "locked": true,
     "schema_version": 1,
     "solution": false
    }
   },
   "source": [
    "<strong>1.4</strong> \\[1 pt\\] Add the following two vectors by hand.  $v_1 = (5 * a, 4)$ and $v_2 (3*b, 7)$.  Store the results as strings in a python list called added (e.g. the vector $(5 * a, 4)$ would be [\"5 * a\", \"4\"].  Make sure that each entry in the list is a valid pyton expression.  So \"5 * a\" is correct, but \"5 a\" is not because \"5 a\" will not be properly evaluated by python."
   ]
  },
  {
   "cell_type": "code",
   "execution_count": 13,
   "metadata": {
    "deletable": false,
    "nbgrader": {
     "checksum": "c7c3c4d9a38fcca56c61cc73a6320a10",
     "grade": false,
     "grade_id": "cell-02682c12e6797934",
     "locked": false,
     "schema_version": 1,
     "solution": true
    }
   },
   "outputs": [],
   "source": [
    "added = ['5 * a + 3 * b', '11']\n",
    "# YOUR CODE HERE\n",
    "#raise NotImplementedError()\n"
   ]
  },
  {
   "cell_type": "code",
   "execution_count": 15,
   "metadata": {
    "deletable": false,
    "editable": false,
    "nbgrader": {
     "checksum": "f37254f582b837c0890a06458ea39659",
     "grade": true,
     "grade_id": "cell-f141102d74386afa",
     "locked": true,
     "points": 1,
     "schema_version": 1,
     "solution": false
    }
   },
   "outputs": [],
   "source": [
    "assert type(added) == list,  \"Problem 1.4, testing added, type of value stored in variable does not match the expected type. Expecting list.\""
   ]
  },
  {
   "cell_type": "markdown",
   "metadata": {
    "deletable": false,
    "editable": false,
    "nbgrader": {
     "checksum": "9a38ea150be1ea2b0d8a164343a63c52",
     "grade": false,
     "grade_id": "cell-f384ac0613affd9c",
     "locked": true,
     "schema_version": 1,
     "solution": false
    }
   },
   "source": [
    "## Part 2: Matrix Computation "
   ]
  },
  {
   "cell_type": "markdown",
   "metadata": {
    "deletable": false,
    "editable": false,
    "nbgrader": {
     "checksum": "510bd2c609dfdc4433b8498ac3d6644a",
     "grade": false,
     "grade_id": "cell-527decbeb27e2cba",
     "locked": true,
     "schema_version": 1,
     "solution": false
    }
   },
   "source": [
    "<strong>2.1</strong> \\[1 pt\\] Write a function called <strong>Matrices</strong> that takes A matrix and B matrix, and then returns a dictionary that has four keys called <strong>addition</strong> (addition of A and B), <strong>subtraction</strong> (subtract B from A), <strong>multiplication</strong> (multiply A and B), <strong>elementwise</strong> (elementwise product, (a\\*b)).  Inputs will be represented as numpy arrays and outputs should also be numpy arrays.     "
   ]
  },
  {
   "cell_type": "code",
   "execution_count": null,
   "metadata": {
    "deletable": false,
    "nbgrader": {
     "checksum": "cd2d8570c4e7663fafc800fb89b8408e",
     "grade": false,
     "grade_id": "cell-f34eaaa22752fde4",
     "locked": false,
     "schema_version": 1,
     "solution": true
    }
   },
   "outputs": [],
   "source": [
    "def Matrices(A,B):\n",
    "    # YOUR CODE HERE\n",
    "    raise NotImplementedError()"
   ]
  },
  {
   "cell_type": "code",
   "execution_count": null,
   "metadata": {
    "deletable": false,
    "editable": false,
    "nbgrader": {
     "checksum": "d759db2645b09dd360f71655a0bf46c4",
     "grade": true,
     "grade_id": "cell-e8861c2001b4e0ff",
     "locked": true,
     "points": 1,
     "schema_version": 1,
     "solution": false
    }
   },
   "outputs": [],
   "source": [
    "#hidden tests for problem 2.1 are within this cell"
   ]
  },
  {
   "cell_type": "markdown",
   "metadata": {
    "deletable": false,
    "editable": false,
    "nbgrader": {
     "checksum": "6add826747b0f7de98de470a61092c04",
     "grade": false,
     "grade_id": "cell-ef1833d4761736fe",
     "locked": true,
     "schema_version": 1,
     "solution": false
    }
   },
   "source": [
    "<strong>2.2</strong> \\[1 pt\\] Assume A=[[-2,6,8],[5,-2,8],[2,1,4]] and B=[[10,-4,6],[1,8,-3],[8,-2,4]]. What are the addition, subtraction, multiplication, and elementwise product of A matrix and B matrix? Please store your answers into a variable <strong>ANS22</strong> formatted as a dictionary as in problem 2.1.  (Use the function from 2.1) \n"
   ]
  },
  {
   "cell_type": "code",
   "execution_count": null,
   "metadata": {
    "deletable": false,
    "nbgrader": {
     "checksum": "cbf9137077f5a4120fd91e2a326c9fb7",
     "grade": false,
     "grade_id": "cell-d59d72a05083a65b",
     "locked": false,
     "schema_version": 1,
     "solution": true
    }
   },
   "outputs": [],
   "source": [
    "# YOUR CODE HERE\n",
    "raise NotImplementedError()"
   ]
  },
  {
   "cell_type": "code",
   "execution_count": null,
   "metadata": {
    "deletable": false,
    "editable": false,
    "nbgrader": {
     "checksum": "76ac7e194469eecd33bca07074d549ea",
     "grade": true,
     "grade_id": "cell-1943466bf97bdfa1",
     "locked": true,
     "points": 1,
     "schema_version": 1,
     "solution": false
    }
   },
   "outputs": [],
   "source": [
    "assert type(ANS22) == type({}), \"Problem 2.2, testing ANS22, type of value stored in variable does not match the expected type. Expecting Dictionary.\""
   ]
  },
  {
   "cell_type": "markdown",
   "metadata": {
    "deletable": false,
    "editable": false,
    "nbgrader": {
     "checksum": "0508c210284f2eeba91c5042f9cdf915",
     "grade": false,
     "grade_id": "cell-6b642ff746141c33",
     "locked": true,
     "schema_version": 1,
     "solution": false
    }
   },
   "source": [
    "<strong>2.3</strong> \\[1 pt\\] What is the transpose of C? Please store the transpose of C into a variable <strong>C_trans</strong>. \n",
    "\n",
    "For grading purposes, `C_trans` should be a numpy array."
   ]
  },
  {
   "cell_type": "code",
   "execution_count": null,
   "metadata": {
    "deletable": false,
    "nbgrader": {
     "checksum": "a5ed031b69db823264e6ec700b5756e0",
     "grade": false,
     "grade_id": "cell-0afc4735301d7086",
     "locked": false,
     "schema_version": 1,
     "solution": true
    }
   },
   "outputs": [],
   "source": [
    "C = np.array([[1, 1, 2], [3, 5, 8]])\n",
    "\n",
    "C_trans=None\n",
    "# YOUR CODE HERE\n",
    "raise NotImplementedError()"
   ]
  },
  {
   "cell_type": "code",
   "execution_count": null,
   "metadata": {
    "deletable": false,
    "editable": false,
    "nbgrader": {
     "checksum": "69bbe27b8804d4d66fe1fe75f9eff3ed",
     "grade": true,
     "grade_id": "cell-2ae88de7677e6d09",
     "locked": true,
     "points": 1,
     "schema_version": 1,
     "solution": false
    }
   },
   "outputs": [],
   "source": [
    "assert type(C_trans) == np.ndarray, \"Problem 2.3, testing C_trans, type of value stored in variable does not match the expected type. Expecting np.ndarray\""
   ]
  },
  {
   "cell_type": "markdown",
   "metadata": {
    "deletable": false,
    "editable": false,
    "nbgrader": {
     "checksum": "3b35e2ae92de8f961356538fae7bc6be",
     "grade": false,
     "grade_id": "cell-f8dfd45370790742",
     "locked": true,
     "schema_version": 1,
     "solution": false
    }
   },
   "source": [
    "<strong>2.4</strong> \\[1 pt\\] What is (CD)<sup>T</sup>? Please store the value into <strong>CD_trans.</strong>\n",
    "\n",
    "For grading purposes, `CD_trans` should be type `numpy.array`."
   ]
  },
  {
   "cell_type": "code",
   "execution_count": null,
   "metadata": {
    "deletable": false,
    "nbgrader": {
     "checksum": "f0f90be55f652de6c3701f881240624c",
     "grade": false,
     "grade_id": "cell-71cbc2342eada7dc",
     "locked": false,
     "schema_version": 1,
     "solution": true
    }
   },
   "outputs": [],
   "source": [
    "D = np.array([[13], [21], [34]])\n",
    "\n",
    "\n",
    "CD_trans=None\n",
    "# YOUR CODE HERE\n",
    "raise NotImplementedError()"
   ]
  },
  {
   "cell_type": "code",
   "execution_count": null,
   "metadata": {
    "deletable": false,
    "editable": false,
    "nbgrader": {
     "checksum": "ce4889c0834b92f690c635e4c2886d73",
     "grade": true,
     "grade_id": "cell-174e47222abd77ec",
     "locked": true,
     "points": 1,
     "schema_version": 1,
     "solution": false
    }
   },
   "outputs": [],
   "source": [
    "#hidden tests for problem 2.4 are within this cell\n",
    "assert type(CD_trans) == np.ndarray, \"Problem 2.4, testing CD_trans, type of value stored in variable does not match the expected type. Expecting np.ndarray\""
   ]
  },
  {
   "cell_type": "markdown",
   "metadata": {
    "deletable": false,
    "editable": false,
    "nbgrader": {
     "checksum": "79739e618be1a0cad0452d14ac7964f0",
     "grade": false,
     "grade_id": "cell-5a5d766c714a3b7d",
     "locked": true,
     "schema_version": 1,
     "solution": false
    }
   },
   "source": [
    "<strong>2.5</strong> \\[1 pt\\] What is the inverse matrix of E? Please store it into a variable <strong>E_inv</strong>.              \n",
    "\n",
    "For grading purposes, `E_inv` should be type `numpy.matrix`"
   ]
  },
  {
   "cell_type": "code",
   "execution_count": null,
   "metadata": {
    "deletable": false,
    "nbgrader": {
     "checksum": "1690aff405a70522522760e3436c0efb",
     "grade": false,
     "grade_id": "cell-98a08d219887a362",
     "locked": false,
     "schema_version": 1,
     "solution": true
    }
   },
   "outputs": [],
   "source": [
    "E = np.array([[1, 1, 2], [3, 5, 8], [13, 21, 50]])\n",
    "\n",
    "E_inv=None\n",
    "# YOUR CODE HERE\n",
    "raise NotImplementedError()"
   ]
  },
  {
   "cell_type": "code",
   "execution_count": null,
   "metadata": {
    "deletable": false,
    "editable": false,
    "nbgrader": {
     "checksum": "ec7cd7bed643933b013e70622e152534",
     "grade": true,
     "grade_id": "cell-75c20b117fcb21c5",
     "locked": true,
     "points": 1,
     "schema_version": 1,
     "solution": false
    }
   },
   "outputs": [],
   "source": [
    "#hidden tests for problem 2.5 are within this cell"
   ]
  },
  {
   "cell_type": "markdown",
   "metadata": {
    "deletable": false,
    "editable": false,
    "nbgrader": {
     "checksum": "d94d05c1a62c2939c6140ade1e45f0ca",
     "grade": false,
     "grade_id": "cell-8a7e39ca00f6c9b2",
     "locked": true,
     "schema_version": 1,
     "solution": false
    }
   },
   "source": [
    "<strong>2.6</strong> \\[1 pt\\] If AD=I, what is matrix D? Please store matrix D into a variable <strong>D</strong>.  (Use A from problem 2.2).\n",
    "\n",
    "For grading purposes, `D` should be type `numpy.ndarray`."
   ]
  },
  {
   "cell_type": "code",
   "execution_count": null,
   "metadata": {
    "deletable": false,
    "nbgrader": {
     "checksum": "20fc20c3d3b3e2d066e72df25d4cc5bf",
     "grade": false,
     "grade_id": "cell-f9ac76d940b23358",
     "locked": false,
     "schema_version": 1,
     "solution": true
    }
   },
   "outputs": [],
   "source": [
    "D= None\n",
    "# YOUR CODE HERE\n",
    "raise NotImplementedError()"
   ]
  },
  {
   "cell_type": "code",
   "execution_count": null,
   "metadata": {
    "deletable": false,
    "editable": false,
    "nbgrader": {
     "checksum": "b15e53d2f80a9a3a023f5f23242809a8",
     "grade": true,
     "grade_id": "cell-7e7ef1859427aebc",
     "locked": true,
     "points": 1,
     "schema_version": 1,
     "solution": false
    }
   },
   "outputs": [],
   "source": [
    "assert type(D) == np.ndarray,  \"Problem 2.6, testing D, type of value stored in variable does not match the expected type. Expecting np.array\""
   ]
  },
  {
   "cell_type": "markdown",
   "metadata": {
    "deletable": false,
    "editable": false,
    "nbgrader": {
     "checksum": "8ebfbd4e22a48b21114e40092158006e",
     "grade": false,
     "grade_id": "cell-54c6ceb411d53c3f",
     "locked": true,
     "schema_version": 1,
     "solution": false
    }
   },
   "source": [
    "<strong>2.7</strong> \\[1 pt\\] What is the determinant of A? Please store the value into a variable <strong>A_deter</strong>.  (Use A from problem 2.2.) \n",
    "\n",
    "For grading purposes, `A_deter` should be type `numpy.float64`."
   ]
  },
  {
   "cell_type": "code",
   "execution_count": null,
   "metadata": {
    "deletable": false,
    "nbgrader": {
     "checksum": "857bf7f6e6bdc71f135be9e88509dded",
     "grade": false,
     "grade_id": "cell-ded3892aaac45733",
     "locked": false,
     "schema_version": 1,
     "solution": true
    }
   },
   "outputs": [],
   "source": [
    "A = np.array([[-2,6,8],[5,-2,8],[2,1,4]])\n",
    "\n",
    "A_deter=None \n",
    "# YOUR CODE HERE\n",
    "raise NotImplementedError()"
   ]
  },
  {
   "cell_type": "code",
   "execution_count": null,
   "metadata": {
    "deletable": false,
    "editable": false,
    "nbgrader": {
     "checksum": "c9b3ffe1a9c6c58e89638b3a715edd20",
     "grade": true,
     "grade_id": "cell-0a36f464f9700b09",
     "locked": true,
     "points": 1,
     "schema_version": 1,
     "solution": false
    }
   },
   "outputs": [],
   "source": [
    "#hidden tests for problem 2.7 are within this cell"
   ]
  },
  {
   "cell_type": "markdown",
   "metadata": {
    "deletable": false,
    "editable": false,
    "nbgrader": {
     "checksum": "7cd6020630a5364cf7132d3a8c1eeb00",
     "grade": false,
     "grade_id": "cell-2a654a455724bc6a",
     "locked": true,
     "schema_version": 1,
     "solution": false
    }
   },
   "source": [
    "<strong>2.8</strong> \\[1 pt\\] What is the determinant of BA? Please store the value into a variable <strong>BA_deter</strong>.  (Use A and B from problem 2.2.)\n",
    "\n",
    "For grading purposes, `BA_deter` should be type `numpy.float64`."
   ]
  },
  {
   "cell_type": "code",
   "execution_count": null,
   "metadata": {
    "deletable": false,
    "nbgrader": {
     "checksum": "6c293eeea4f933c771679213248b2507",
     "grade": false,
     "grade_id": "cell-f41d8e11e74b3fc0",
     "locked": false,
     "schema_version": 1,
     "solution": true
    }
   },
   "outputs": [],
   "source": [
    "\n",
    "BA_deter=None \n",
    "# YOUR CODE HERE\n",
    "raise NotImplementedError()"
   ]
  },
  {
   "cell_type": "code",
   "execution_count": null,
   "metadata": {
    "deletable": false,
    "editable": false,
    "nbgrader": {
     "checksum": "4c4e864466d19df2ae1d738c4760af14",
     "grade": true,
     "grade_id": "cell-4a21c6f652c4f3dd",
     "locked": true,
     "points": 1,
     "schema_version": 1,
     "solution": false
    }
   },
   "outputs": [],
   "source": [
    "#hidden tests for problem 2.8 are within this cell"
   ]
  },
  {
   "cell_type": "markdown",
   "metadata": {
    "deletable": false,
    "editable": false,
    "nbgrader": {
     "checksum": "6ac48e7f9cdcfa1a02babee9ac8795f2",
     "grade": false,
     "grade_id": "cell-713a87b60c0e4c29",
     "locked": true,
     "schema_version": 1,
     "solution": false
    }
   },
   "source": [
    "<strong>2.9</strong> \\[1 pt\\] Change negative values of A to 1 and store the result into a variable <strong>A_pos</strong>.   (Use A from problem 2.2.)  Hint:boolean matrix \n",
    "\n",
    "For grading purposes, `A` should be type `numpy.matrix`."
   ]
  },
  {
   "cell_type": "code",
   "execution_count": null,
   "metadata": {
    "deletable": false,
    "nbgrader": {
     "checksum": "9b3acca25684631eb26e2b33ac1c96a8",
     "grade": false,
     "grade_id": "cell-45fbe97d7f713f8a",
     "locked": false,
     "schema_version": 1,
     "solution": true
    }
   },
   "outputs": [],
   "source": [
    "A_pos = None\n",
    "# YOUR CODE HERE\n",
    "raise NotImplementedError()"
   ]
  },
  {
   "cell_type": "code",
   "execution_count": null,
   "metadata": {
    "deletable": false,
    "editable": false,
    "nbgrader": {
     "checksum": "3f649723622e7edff96ce573df494b4a",
     "grade": true,
     "grade_id": "cell-aa0cf2d089271312",
     "locked": true,
     "points": 1,
     "schema_version": 1,
     "solution": false
    }
   },
   "outputs": [],
   "source": [
    "#hidden tests for problem 2.9 are within this cell"
   ]
  },
  {
   "cell_type": "markdown",
   "metadata": {
    "deletable": false,
    "editable": false,
    "nbgrader": {
     "checksum": "6d60e9d9c92b13003d748d2daa3dfbe4",
     "grade": false,
     "grade_id": "cell-1c38a9fe4c13a0d5",
     "locked": true,
     "schema_version": 1,
     "solution": false
    }
   },
   "source": [
    "<strong>2.10</strong> \\[1 pt\\] We are going to find the trace of the sum of two scaled matrices. Find the trace of 2\\*A + 3\\*B and store the value into a variable <strong>trace2A3B</strong>.  (Use A and B from problem 2.2.)\n",
    "\n",
    "For grading purposes, `trace2A3B` should be type `numpy.int64`."
   ]
  },
  {
   "cell_type": "code",
   "execution_count": null,
   "metadata": {
    "deletable": false,
    "nbgrader": {
     "checksum": "538be0aeea148387db70c4f8822de9c3",
     "grade": false,
     "grade_id": "cell-4a58204752a1e3a5",
     "locked": false,
     "schema_version": 1,
     "solution": true
    }
   },
   "outputs": [],
   "source": [
    "\n",
    "\n",
    "trace2A3B=None\n",
    "# YOUR CODE HERE\n",
    "raise NotImplementedError()"
   ]
  },
  {
   "cell_type": "code",
   "execution_count": null,
   "metadata": {
    "deletable": false,
    "editable": false,
    "nbgrader": {
     "checksum": "623c92d1d83d71cb9c5f9f10e1611b40",
     "grade": true,
     "grade_id": "cell-09f9e02c3fb55c0d",
     "locked": true,
     "points": 1,
     "schema_version": 1,
     "solution": false
    }
   },
   "outputs": [],
   "source": [
    "#hidden tests for problem 2.10 are within this cell"
   ]
  },
  {
   "cell_type": "markdown",
   "metadata": {
    "deletable": false,
    "editable": false,
    "nbgrader": {
     "checksum": "e8cea338774126172b09027edbea41bb",
     "grade": false,
     "grade_id": "cell-85677528a1ebd456",
     "locked": true,
     "schema_version": 1,
     "solution": false
    }
   },
   "source": [
    "<strong>2.11</strong> \\[1 pt\\] What is the value of tr(AB<sup>T </sup>)? Please store the value into a variable <strong>AB_trace</strong>.  (Use A and B from problem 2.2).\n",
    "\n",
    "For grading purposes, `AB_trace` should be type `numpy.int64`."
   ]
  },
  {
   "cell_type": "code",
   "execution_count": null,
   "metadata": {
    "deletable": false,
    "nbgrader": {
     "checksum": "4ae96922eeca282ebd6fb9878592f393",
     "grade": false,
     "grade_id": "cell-03d1b2f808aa170a",
     "locked": false,
     "schema_version": 1,
     "solution": true
    }
   },
   "outputs": [],
   "source": [
    "AB_trace = None \n",
    "# YOUR CODE HERE\n",
    "raise NotImplementedError()"
   ]
  },
  {
   "cell_type": "code",
   "execution_count": null,
   "metadata": {
    "deletable": false,
    "editable": false,
    "nbgrader": {
     "checksum": "900bbb8ad8a3e381d01e305676786409",
     "grade": true,
     "grade_id": "cell-12f5c58920c36677",
     "locked": true,
     "points": 1,
     "schema_version": 1,
     "solution": false
    }
   },
   "outputs": [],
   "source": [
    "assert type(AB_trace) == np.int64, \"Problem 2.11, testing AB_trace, type of value stored in variable does not match the expected type. Expecting np.int64\""
   ]
  },
  {
   "cell_type": "markdown",
   "metadata": {
    "deletable": false,
    "editable": false,
    "nbgrader": {
     "checksum": "1af793c54539cb40e45e27cf12fe0a38",
     "grade": false,
     "grade_id": "cell-f384ac0613affd9f",
     "locked": true,
     "schema_version": 1,
     "solution": false
    }
   },
   "source": [
    "## Part 3: Matrix Calculations "
   ]
  },
  {
   "cell_type": "markdown",
   "metadata": {
    "deletable": false,
    "editable": false,
    "nbgrader": {
     "checksum": "01d879ac948b5870004d9ba6354b865f",
     "grade": false,
     "grade_id": "cell-21e725ab019ee93e",
     "locked": true,
     "schema_version": 1,
     "solution": false
    }
   },
   "source": [
    "<strong>3.1</strong> \\[1 pt\\] Let $F = [[1, 2, a], [3, 2, 1 + b], [2, 2, 2 + c]]$ where $a$, $b$, and $c$ are variables.  $G = [[0, 2 + c, -a], [3, b + c, -1], [a, 3, -b]]$ where $a$, $b$, and $c$ are the same variables as in $F$.   What is the value of $F + G$? Please store the value into a string <strong>FG_sum</strong> written with valid python code formatting (e.g. FG_sum = \"[[1, 2, a], [3, 2, 1 + b], [2, 2, 2 + c]]\").  (Note you are encouraged to do this by hand.)"
   ]
  },
  {
   "cell_type": "code",
   "execution_count": null,
   "metadata": {
    "deletable": false,
    "nbgrader": {
     "checksum": "4dbb8952d08631826e99dbe48b484654",
     "grade": false,
     "grade_id": "cell-69904b9325be7f33",
     "locked": false,
     "schema_version": 1,
     "solution": true
    }
   },
   "outputs": [],
   "source": [
    "FG_sum = None \n",
    "# YOUR CODE HERE\n",
    "raise NotImplementedError()"
   ]
  },
  {
   "cell_type": "code",
   "execution_count": null,
   "metadata": {
    "deletable": false,
    "editable": false,
    "nbgrader": {
     "checksum": "46f31c47e17ca7f71ab0a425bf1d503f",
     "grade": true,
     "grade_id": "cell-0b6fa79caf358a18",
     "locked": true,
     "points": 1,
     "schema_version": 1,
     "solution": false
    }
   },
   "outputs": [],
   "source": [
    "assert type(FG_sum) == str, \"Problem 3.1, type of value stored in variable FG_summ does not match the expected type.\""
   ]
  },
  {
   "cell_type": "markdown",
   "metadata": {
    "deletable": false,
    "editable": false,
    "nbgrader": {
     "checksum": "3f8a733db972f1a2e25174b32d127b4b",
     "grade": false,
     "grade_id": "cell-ef1833d4761736ff",
     "locked": true,
     "schema_version": 1,
     "solution": false
    }
   },
   "source": [
    "<strong>3.2</strong> \\[1 pt\\] Assume F and G as above.  What is the (matrix) product of F and G? Please store your answers into a string variable <strong>Prod_FG</strong>  written with valid python code formatting (e.g. FG_sum = \"[[1, 2, a], [3, 2, 1 + b], [2, 2, 2 + c]]\"). (Note you are encouraged to do this by hand.)\n"
   ]
  },
  {
   "cell_type": "code",
   "execution_count": null,
   "metadata": {
    "deletable": false,
    "nbgrader": {
     "checksum": "f156dd477fb9bc309754cf9e12069e4f",
     "grade": false,
     "grade_id": "cell-d59d72a05083a65a",
     "locked": false,
     "schema_version": 1,
     "solution": true
    }
   },
   "outputs": [],
   "source": [
    "Prod_FG = None\n",
    "\n",
    "# YOUR CODE HERE\n",
    "raise NotImplementedError()"
   ]
  },
  {
   "cell_type": "code",
   "execution_count": null,
   "metadata": {
    "deletable": false,
    "editable": false,
    "nbgrader": {
     "checksum": "5120c78968a9d43a224b9dd744f80988",
     "grade": true,
     "grade_id": "cell-1943466bf97bdfa2",
     "locked": true,
     "points": 1,
     "schema_version": 1,
     "solution": false
    }
   },
   "outputs": [],
   "source": [
    "assert type(Prod_FG) == str, \"Problem 3.2, type of value stored in variable Prod_FG does not match the expected type.\""
   ]
  },
  {
   "cell_type": "markdown",
   "metadata": {
    "deletable": false,
    "editable": false,
    "nbgrader": {
     "checksum": "8610a881f2de8d6cdacb775563da4f8d",
     "grade": false,
     "grade_id": "cell-6b642ff746141c34",
     "locked": true,
     "schema_version": 1,
     "solution": false
    }
   },
   "source": [
    "<strong>3.3</strong> \\[1 pt\\] What is the transpose of F?  Please store your answers into a string variable <strong>F_trans</strong>  written with valid python code formatting (e.g. F_trans = \"[[1, 2, a], [3, 2, 1 + b], [2, 2, 2 + c]]\"). (Note you are encouraged to do this by hand.)"
   ]
  },
  {
   "cell_type": "code",
   "execution_count": null,
   "metadata": {
    "deletable": false,
    "nbgrader": {
     "checksum": "3fec027a014897f7e69f2e77d04746a8",
     "grade": false,
     "grade_id": "cell-0afc4735301d7087",
     "locked": false,
     "schema_version": 1,
     "solution": true
    }
   },
   "outputs": [],
   "source": [
    "F_trans=None\n",
    "# YOUR CODE HERE\n",
    "raise NotImplementedError()"
   ]
  },
  {
   "cell_type": "code",
   "execution_count": null,
   "metadata": {
    "deletable": false,
    "editable": false,
    "nbgrader": {
     "checksum": "f1be587ba8af0e50147dee1b53f0d415",
     "grade": true,
     "grade_id": "cell-2ae88de7677e6d00",
     "locked": true,
     "points": 1,
     "schema_version": 1,
     "solution": false
    }
   },
   "outputs": [],
   "source": [
    "assert type(F_trans) == str, \"Problem 3.3, type of value stored in variable F_trans does not match the expected type.\""
   ]
  },
  {
   "cell_type": "markdown",
   "metadata": {
    "deletable": false,
    "editable": false,
    "nbgrader": {
     "checksum": "0e60c79a2e86cd88e2d92254e2a6ccfd",
     "grade": false,
     "grade_id": "cell-f8dfd45370790743",
     "locked": true,
     "schema_version": 1,
     "solution": false
    }
   },
   "source": [
    " <strong>3.4</strong> \\[1 pt\\] What is the determinant of F? Please store your answers into a string variable <strong>Det_F</strong>  written with valid python code formatting (e.g. F_trans = \"2 + a -b\"). (Note you are encouraged to do this by hand.)"
   ]
  },
  {
   "cell_type": "code",
   "execution_count": null,
   "metadata": {
    "deletable": false,
    "nbgrader": {
     "checksum": "34e1591acdd257eb0a83767f0a181741",
     "grade": false,
     "grade_id": "cell-71cbc2342eada9dc",
     "locked": false,
     "schema_version": 1,
     "solution": true
    }
   },
   "outputs": [],
   "source": [
    "Det_F=None\n",
    "# YOUR CODE HERE\n",
    "raise NotImplementedError()"
   ]
  },
  {
   "cell_type": "code",
   "execution_count": null,
   "metadata": {
    "deletable": false,
    "editable": false,
    "nbgrader": {
     "checksum": "8c7ac9e4e5fb85174df7fe097e8babb4",
     "grade": true,
     "grade_id": "cell-174e47222abd77e7",
     "locked": true,
     "points": 1,
     "schema_version": 1,
     "solution": false
    }
   },
   "outputs": [],
   "source": [
    "assert type(Det_F) == str, \"Problem 3.4, type of value stored in variable Det_F does not match the expected type.\""
   ]
  },
  {
   "cell_type": "markdown",
   "metadata": {
    "deletable": false,
    "editable": false,
    "nbgrader": {
     "checksum": "8d5a11ac31b6eb842139ebe99a68f47d",
     "grade": false,
     "grade_id": "cell-5a5d766c714a3b73",
     "locked": true,
     "schema_version": 1,
     "solution": false
    }
   },
   "source": [
    "<strong>3.5</strong> \\[1 pt\\] What is the trace of the matrix 3F + 2G?    Please store your answers into a string variable <strong>Trace_FG</strong>  written with valid python code formatting (e.g. Trace_FG = \"2 + a -b\"). (Note you are encouraged to do this by hand.)\n"
   ]
  },
  {
   "cell_type": "code",
   "execution_count": null,
   "metadata": {
    "deletable": false,
    "nbgrader": {
     "checksum": "af39ef9b165fcbdabce4d49302768ef2",
     "grade": false,
     "grade_id": "cell-98a08d219887a363",
     "locked": false,
     "schema_version": 1,
     "solution": true
    }
   },
   "outputs": [],
   "source": [
    "import numpy as np\n",
    "\n",
    "Trace_FG=None\n",
    "# YOUR CODE HERE\n",
    "raise NotImplementedError()"
   ]
  },
  {
   "cell_type": "code",
   "execution_count": null,
   "metadata": {
    "deletable": false,
    "editable": false,
    "nbgrader": {
     "checksum": "0d3845fbe094875661047f7ccc8ce1f7",
     "grade": true,
     "grade_id": "cell-75c20b117fcb21c3",
     "locked": true,
     "points": 1,
     "schema_version": 1,
     "solution": false
    }
   },
   "outputs": [],
   "source": [
    "assert type(Trace_FG) == str, \"Problem 3.5, type of value stored in variable Trace_FG does not match the expected type.\""
   ]
  },
  {
   "cell_type": "markdown",
   "metadata": {
    "deletable": false,
    "editable": false,
    "nbgrader": {
     "checksum": "389fb93bb074c3d3dd088e3215e0c4ac",
     "grade": false,
     "grade_id": "cell-8a7e39ca00f6c9b3",
     "locked": true,
     "schema_version": 1,
     "solution": false
    }
   },
   "source": [
    "<strong>3.6</strong> \\[1 pt\\] What is the trace of the matrix $F^T \\cdot  G^T$?    Please store your answers into a string variable <strong>Trace_FTGT</strong>  written with valid python code formatting (e.g. Trace_FTGT = \"2 + a -b\"). (Note you are encouraged to do this by hand.)\n",
    "\n",
    "Hint: no/very little additional calculation is necessary! \n"
   ]
  },
  {
   "cell_type": "code",
   "execution_count": null,
   "metadata": {
    "deletable": false,
    "nbgrader": {
     "checksum": "f1509b58b052cdab62835c73a22b24cb",
     "grade": false,
     "grade_id": "cell-f9ac76d940b23353",
     "locked": false,
     "schema_version": 1,
     "solution": true
    }
   },
   "outputs": [],
   "source": [
    "Trace_FTGT= None\n",
    "# YOUR CODE HERE\n",
    "raise NotImplementedError()\n"
   ]
  },
  {
   "cell_type": "code",
   "execution_count": null,
   "metadata": {
    "deletable": false,
    "editable": false,
    "nbgrader": {
     "checksum": "796b841e4c24da23ba25de3b324e30c5",
     "grade": true,
     "grade_id": "cell-7e7ef1859427aeb3",
     "locked": true,
     "points": 1,
     "schema_version": 1,
     "solution": false
    }
   },
   "outputs": [],
   "source": [
    "assert type(Trace_FTGT) == str, \"Problem 3.6, type of value stored in variable Trace_FTGT does not match the expected type.\""
   ]
  },
  {
   "cell_type": "markdown",
   "metadata": {
    "deletable": false,
    "editable": false,
    "nbgrader": {
     "checksum": "d9614b2f3afd773c5d7304040ecfaced",
     "grade": false,
     "grade_id": "cell-959442dd3453c41b",
     "locked": true,
     "schema_version": 1,
     "solution": false
    }
   },
   "source": [
    "# Part 4: Image "
   ]
  },
  {
   "cell_type": "markdown",
   "metadata": {
    "deletable": false,
    "editable": false,
    "nbgrader": {
     "checksum": "94515a3c0b6f10c476fd179e342d7a60",
     "grade": false,
     "grade_id": "cell-3b07b06f7f6b941d",
     "locked": true,
     "schema_version": 1,
     "solution": false
    }
   },
   "source": [
    "OpenCV is an open source computer vision library(https://opencv-python-tutroals.readthedocs.io/en/latest/py_tutorials/py_setup/py_intro/py_intro.html#intro). It is used in deep learning or image processing. Here, we will import cv2 and then use it to read the Michigan_logo and plot the image. If you are unfamilair with the library, you may need to read some of the documentation.\n",
    "\n",
    "\n"
   ]
  },
  {
   "cell_type": "code",
   "execution_count": null,
   "metadata": {},
   "outputs": [],
   "source": [
    "import cv2\n",
    "from matplotlib import pyplot as plt"
   ]
  },
  {
   "cell_type": "markdown",
   "metadata": {
    "deletable": false,
    "editable": false,
    "nbgrader": {
     "checksum": "f79c80bfc8c354037a5621c4dc166140",
     "grade": false,
     "grade_id": "cell-2ede5836b792b929",
     "locked": true,
     "schema_version": 1,
     "solution": false
    }
   },
   "source": [
    "<strong>4.1</strong> Please use pyplot to read the image and plot the image below. "
   ]
  },
  {
   "cell_type": "code",
   "execution_count": null,
   "metadata": {
    "deletable": false,
    "nbgrader": {
     "checksum": "e98ff8d13e8d3f214a8f49b45db14379",
     "grade": true,
     "grade_id": "cell-0a09e5f377a407e3",
     "locked": false,
     "points": 0,
     "schema_version": 1,
     "solution": true
    }
   },
   "outputs": [],
   "source": [
    "filesource = 'assets/Michigan_logo.jpg'\n",
    "img=None \n",
    "# YOUR CODE HERE\n",
    "raise NotImplementedError()"
   ]
  },
  {
   "cell_type": "markdown",
   "metadata": {
    "deletable": false,
    "editable": false,
    "nbgrader": {
     "checksum": "32049adb823ce5b16dc689906c5e8aac",
     "grade": false,
     "grade_id": "cell-ee52e35ce46f0858",
     "locked": true,
     "schema_version": 1,
     "solution": false
    }
   },
   "source": [
    "<strong>4.2</strong> \\[1 pt\\] What are the RGB values of the pixel at 10, 15 within the image? Please store your answer in a string format: <strong>ANS42</strong> = \"R:, G:, B:\". (example, string may look like the following “R:13, G:2, B:100”.) (Hint: use the python format function)"
   ]
  },
  {
   "cell_type": "code",
   "execution_count": null,
   "metadata": {
    "deletable": false,
    "nbgrader": {
     "checksum": "883716c7a4d8422d4efca449776fd8de",
     "grade": false,
     "grade_id": "cell-d1f5f261ccc5d800",
     "locked": false,
     "schema_version": 1,
     "solution": true
    }
   },
   "outputs": [],
   "source": [
    "ANS42= \"\"\n",
    "# YOUR CODE HERE\n",
    "raise NotImplementedError()\n",
    "print(ANS42)"
   ]
  },
  {
   "cell_type": "code",
   "execution_count": null,
   "metadata": {
    "deletable": false,
    "editable": false,
    "nbgrader": {
     "checksum": "1826800a1c04eb0d429f42a830be4d3c",
     "grade": true,
     "grade_id": "cell-d2d5230f9865ca70",
     "locked": true,
     "points": 1,
     "schema_version": 1,
     "solution": false
    }
   },
   "outputs": [],
   "source": [
    "#hidden tests for problem 4.2 are within this cell"
   ]
  },
  {
   "cell_type": "markdown",
   "metadata": {
    "deletable": false,
    "editable": false,
    "nbgrader": {
     "checksum": "eaf404dfe9593e96644776e9eded4929",
     "grade": false,
     "grade_id": "cell-411afefd9bbc4c7b",
     "locked": true,
     "schema_version": 1,
     "solution": false
    }
   },
   "source": [
    "<strong>4.3</strong> Please resize the image to 20x20 using cv2."
   ]
  },
  {
   "cell_type": "code",
   "execution_count": null,
   "metadata": {
    "deletable": false,
    "nbgrader": {
     "checksum": "08cf22a9fa4e95eda21c734ecb581b7b",
     "grade": true,
     "grade_id": "cell-8b16589ebbe0702a",
     "locked": false,
     "points": 0,
     "schema_version": 1,
     "solution": true
    }
   },
   "outputs": [],
   "source": [
    "\n",
    "# YOUR CODE HERE\n",
    "raise NotImplementedError()"
   ]
  },
  {
   "cell_type": "markdown",
   "metadata": {
    "deletable": false,
    "editable": false,
    "nbgrader": {
     "checksum": "5992422c6810e901d9020d63cdb33acf",
     "grade": false,
     "grade_id": "cell-85d17fa744e0a47a",
     "locked": true,
     "schema_version": 1,
     "solution": false
    }
   },
   "source": [
    "<strong>4.4</strong> \\[1 pt\\] What is the dimension of the image? Please store the result into the variable <strong>resized_dim</strong>. "
   ]
  },
  {
   "cell_type": "code",
   "execution_count": null,
   "metadata": {
    "deletable": false,
    "nbgrader": {
     "checksum": "ec992b9f22e0a20cd8c6c63877a4cff7",
     "grade": false,
     "grade_id": "cell-da73d6771390566c",
     "locked": false,
     "schema_version": 1,
     "solution": true
    }
   },
   "outputs": [],
   "source": [
    "resized_dim = None\n",
    "# YOUR CODE HERE\n",
    "raise NotImplementedError()"
   ]
  },
  {
   "cell_type": "code",
   "execution_count": null,
   "metadata": {
    "deletable": false,
    "editable": false,
    "nbgrader": {
     "checksum": "1df03a6565fcaf5d4f17b542b3d9f840",
     "grade": true,
     "grade_id": "cell-214cff6388d2e1c8",
     "locked": true,
     "points": 1,
     "schema_version": 1,
     "solution": false
    }
   },
   "outputs": [],
   "source": [
    "#hidden tests for problem 4.4 are within this cell"
   ]
  }
 ],
 "metadata": {
  "coursera": {
   "schema_names": [
    "mads_math_methods_for_data_science_v3_assignment1"
   ]
  },
  "kernelspec": {
   "display_name": "Python 3",
   "language": "python",
   "name": "python3"
  },
  "language_info": {
   "codemirror_mode": {
    "name": "ipython",
    "version": 3
   },
   "file_extension": ".py",
   "mimetype": "text/x-python",
   "name": "python",
   "nbconvert_exporter": "python",
   "pygments_lexer": "ipython3",
   "version": "3.7.9-final"
  }
 },
 "nbformat": 4,
 "nbformat_minor": 2
}