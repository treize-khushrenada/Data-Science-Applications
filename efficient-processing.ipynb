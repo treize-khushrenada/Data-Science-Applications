{
 "cells": [
  {
   "cell_type": "markdown",
   "metadata": {},
   "source": [
    "Before you turn this problem in, make sure everything runs as expected. First, **restart the kernel** (in the menubar, select Kernel$\\rightarrow$Restart) and then **run all cells** (in the menubar, select Cell$\\rightarrow$Run All).\n",
    "\n",
    "Make sure you fill in any place that says `YOUR CODE HERE` or \"YOUR ANSWER HERE\"."
   ]
  },
  {
   "cell_type": "code",
   "execution_count": 64,
   "metadata": {},
   "outputs": [],
   "source": [
    "# Please add your name and University of Michagan uniqname here...\n",
    "\n",
    "NAME = 'Arthur Cho'\n",
    "UMICH_UNIQNAME = 'arthurac'"
   ]
  },
  {
   "cell_type": "markdown",
   "metadata": {},
   "source": [
    "---"
   ]
  },
  {
   "cell_type": "code",
   "execution_count": 65,
   "metadata": {
    "deletable": false,
    "editable": false,
    "nbgrader": {
     "checksum": "0b2fce5e4b0127867991978f8e05c346",
     "grade": false,
     "grade_id": "cell-c0bfe12420a353d9",
     "locked": true,
     "schema_version": 1,
     "solution": false
    }
   },
   "outputs": [],
   "source": [
    "version = \"v3.3.012821\""
   ]
  },
  {
   "cell_type": "markdown",
   "metadata": {
    "deletable": false,
    "editable": false,
    "nbgrader": {
     "checksum": "cf8ca203ad680b8e75578220e09aea9a",
     "grade": false,
     "grade_id": "cell-a3bb30b286b77336",
     "locked": true,
     "schema_version": 1,
     "solution": false
    }
   },
   "source": [
    "# SIADS 515 Week 1 Homework (HW1)\n",
    "\n",
    "\n",
    "## A note about the `%%bash` magic command\n",
    "\n",
    "The lecture material covered integrating Linux shell commands with Jupyter notebooks using the !, !!, %sx, or %system magic commands. There's one more integration to introduce to you: the %%bash magic command. bash is a popular linux shell, and starting a Jupyter notebook cell with the %%bash magic command will tell Jupyter that the remainder of the cell is to be interpreted as linux (bash) commands.\n",
    "\n",
    "\n",
    "## A note about the `tee` shell command\n",
    "\n",
    "For the shell questions in this assignment, you'll generally need to redirect your output to a specifc file for the autograder cells to work. The `tee` command will come in handy, it takes input from STDIN and writes it to STDOUT *and* a file that you specify. This is helpful because you'll be able to see your answer and the file will be writen to allow the autograder to do its work."
   ]
  },
  {
   "cell_type": "code",
   "execution_count": 66,
   "metadata": {},
   "outputs": [
    {
     "output_type": "stream",
     "name": "stdout",
     "text": [
      "Cleaning up, removing created files ...\n\n./to_new.csv\n./solution04.txt\n./solution01.txt\n./solution03.txt\n./solution02.txt\n./solution_example.txt\n./solution05.csv\n\n... done.\n"
     ]
    }
   ],
   "source": [
    "%%bash\n",
    "\n",
    "# This cell cleans up the directory to avoid problems with the autograder.\n",
    "\n",
    "\n",
    "echo \"Cleaning up, removing created files ...\"\n",
    "echo \"\"\n",
    "# remove all files in this directory that don't match these patterns\n",
    "find \".\" \\\n",
    "    -not -path \".\" \\\n",
    "    -not -path \"./assets\" \\\n",
    "    -not -path \"./assets/ride.csv\" \\\n",
    "    -not -path \"./.ipynb_checkpoints\" \\\n",
    "    -not -path \"./.ipynb_checkpoints/*\" \\\n",
    "    -not -path \"./assignment1.ipynb\" \\\n",
    "    -print -delete\n",
    "echo \"\"\n",
    "echo \"... done.\""
   ]
  },
  {
   "cell_type": "markdown",
   "metadata": {
    "deletable": false,
    "editable": false,
    "nbgrader": {
     "checksum": "1ffe2f0b44bf35abb108f2b060f56a4c",
     "grade": false,
     "grade_id": "cell-f276bd968f0874e7",
     "locked": true,
     "schema_version": 1,
     "solution": false
    }
   },
   "source": [
    "## Example Question\n",
    "\n",
    "Copy the first 3 lines of `assets/ride.csv` into a file named `solution_example.txt`\n",
    "\n",
    "*(Note that this is an example problem to demonstrate how to answer shell-based questions in this assignment.)*"
   ]
  },
  {
   "cell_type": "code",
   "execution_count": 67,
   "metadata": {
    "deletable": false,
    "editable": false,
    "nbgrader": {
     "checksum": "eaecd54d2c159f2d34c7087bc2c1aad5",
     "grade": false,
     "grade_id": "cell-a6302669927b4a3d",
     "locked": true,
     "schema_version": 1,
     "solution": false
    }
   },
   "outputs": [
    {
     "output_type": "stream",
     "name": "stdout",
     "text": [
      "﻿Type,Local Number,Message,Field 1,Value 1,Units 1,Field 2,Value 2,Units 2,Field 3,Value 3,Units 3,Field 4,Value 4,Units 4,Field 5,Value 5,Units 5,Field 6,Value 6,Units 6,Field 7,Value 7,Units 7,Field 8,Value 8,Units 8,Field 9,Value 9,Units 9,Field 10,Value 10,Units 10,Field 11,Value 11,Units 11,Field 12,Value 12,Units 12,Field 13,Value 13,Units 13,Field 14,Value 14,Units 14,Field 15,Value 15,Units 15,Field 16,Value 16,Units 16,Field 17,Value 17,Units 17,Field 18,Value 18,Units 18,Field 19,Value 19,Units 19,Field 20,Value 20,Units 20,Field 21,Value 21,Units 21,Field 22,Value 22,Units 22,Field 23,Value 23,Units 23,Field 24,Value 24,Units 24,Field 25,Value 25,Units 25,Field 26,Value 26,Units 26,Field 27,Value 27,Units 27,Field 28,Value 28,Units 28,Field 29,Value 29,Units 29,Field 30,Value 30,Units 30,Field 31,Value 31,Units 31,Field 32,Value 32,Units 32,Field 33,Value 33,Units 33,Field 34,Value 34,Units 34,Field 35,Value 35,Units 35,Field 36,Value 36,Units 36,Field 37,Value 37,Units 37,Field 38,Value 38,Units 38,Field 39,Value 39,Units 39,Field 40,Value 40,Units 40,Field 41,Value 41,Units 41,Field 42,Value 42,Units 42,Field 43,Value 43,Units 43,Field 44,Value 44,Units 44,Field 45,Value 45,Units 45,Field 46,Value 46,Units 46,Field 47,Value 47,Units 47,Field 48,Value 48,Units 48,Field 49,Value 49,Units 49,Field 50,Value 50,Units 50,Field 51,Value 51,Units 51,Field 52,Value 52,Units 52,Field 53,Value 53,Units 53,Field 54,Value 54,Units 54,Field 55,Value 55,Units 55,Field 56,Value 56,Units 56,Field 57,Value 57,Units 57,Field 58,Value 58,Units 58,Field 59,Value 59,Units 59,Field 60,Value 60,Units 60,Field 61,Value 61,Units 61,Field 62,Value 62,Units 62,Field 63,Value 63,Units 63,Field 64,Value 64,Units 64,Field 65,Value 65,Units 65,Field 66,Value 66,Units 66,Field 67,Value 67,Units 67,Field 68,Value 68,Units 68,Field 69,Value 69,Units 69,Field 70,Value 70,Units 70,Field 71,Value 71,Units 71,Field 72,Value 72,Units 72,Field 73,Value 73,Units 73,Field 74,Value 74,Units 74,Field 75,Value 75,Units 75,Field 76,Value 76,Units 76,Field 77,Value 77,Units 77,Field 78,Value 78,Units 78,Field 79,Value 79,Units 79,Field 80,Value 80,Units 80,Field 81,Value 81,Units 81,Field 82,Value 82,Units 82,\nDefinition,0,file_id,serial_number,1,,time_created,1,,unknown,1,,manufacturer,1,,product,1,,number,1,,type,1,,\nData,0,file_id,serial_number,\"3938543757\",,time_created,\"896018500\",,manufacturer,\"1\",,garmin_product,\"1765\",,type,\"4\",,,,,,,,\n"
     ]
    }
   ],
   "source": [
    "%%bash\n",
    "\n",
    "head -3 assets/ride.csv | tee solution_example.txt"
   ]
  },
  {
   "cell_type": "code",
   "execution_count": 68,
   "metadata": {
    "deletable": false,
    "editable": false,
    "nbgrader": {
     "checksum": "1ced5eeeb046407916ae134a814a5c24",
     "grade": true,
     "grade_id": "cell-1d6b28764fdbf76b",
     "locked": true,
     "points": 0,
     "schema_version": 1,
     "solution": false
    }
   },
   "outputs": [],
   "source": [
    "# Example Question, Check 1\n",
    "# 0 points\n",
    "\n",
    "with open('solution_example.txt') as ans:\n",
    "    lines = ans.readlines()\n",
    "\n",
    "assert len(lines) == 3, 'solution file must be 3 lines long'\n",
    "\n",
    "# There are no hidden autograder tests in this cell."
   ]
  },
  {
   "cell_type": "markdown",
   "metadata": {
    "deletable": false,
    "editable": false,
    "nbgrader": {
     "checksum": "8489e76457f5c9ba4497325bb4320d4b",
     "grade": false,
     "grade_id": "cell-6f944a7af253728c",
     "locked": true,
     "schema_version": 1,
     "solution": false
    }
   },
   "source": [
    "## Question 1\n",
    "Copy the last 5 lines of `assets/ride.csv` into a file called `solution01.txt`."
   ]
  },
  {
   "cell_type": "code",
   "execution_count": 69,
   "metadata": {
    "deletable": false,
    "nbgrader": {
     "checksum": "2126020373ec70aa1c0a260d70f7389e",
     "grade": false,
     "grade_id": "cell-d2f755630d46555d",
     "locked": false,
     "schema_version": 1,
     "solution": true
    }
   },
   "outputs": [
    {
     "output_type": "stream",
     "name": "stdout",
     "text": [
      "Data,10,lap,timestamp,\"896019812\",s,start_time,\"896019530\",,start_position_lat,\"504490526\",semicircles,start_position_long,\"-998989384\",semicircles,end_position_lat,\"504426837\",semicircles,end_position_long,\"-999050457\",semicircles,total_elapsed_time,\"276.443\",s,total_timer_time,\"276.443\",s,total_distance,\"981.77\",m,unknown,\"504490526\",,unknown,\"-998989384\",,unknown,\"504424374\",,unknown,\"-999051451\",,message_index,\"1\",,total_calories,\"55\",kcal,avg_speed,\"3.551\",m/s,max_speed,\"5.496\",m/s,total_ascent,\"24\",m,total_descent,\"1\",m,event,\"9\",,event_type,\"1\",,lap_trigger,\"7\",,sport,\"2\",,sub_sport,\"0\",,enhanced_avg_speed,\"3.551\",m/s,enhanced_max_speed,\"5.496\",m/s,,,,,,,,,,,,,,,,,,,,,,,,,,,,,,,,,,,,,,,,,,,,,,,,,,,,,,,,,,,,,,,,,,,,,,,,,,,,,,,,,,,,,,,,,,,,,,,,,,,,,,,,,,,,,,,,,,,,,,,,,,,,,,,,,,,,,,,,,,,,,,,,,,,,,,,\nDefinition,12,session,timestamp,1,,start_time,1,,start_position_lat,1,,start_position_long,1,,total_elapsed_time,1,,total_timer_time,1,,total_distance,1,,total_cycles,1,,nec_lat,1,,nec_long,1,,swc_lat,1,,swc_long,1,,avg_stroke_count,1,,total_work,1,,time_in_hr_zone,7,,time_in_power_zone,8,,unknown,1,,unknown,16,,time_standing,1,,avg_left_power_phase,4,,avg_left_power_phase_peak,4,,avg_right_power_phase,4,,avg_right_power_phase_peak,4,,avg_power_position,2,,max_power_position,2,,message_index,1,,total_calories,1,,avg_speed,1,,max_speed,1,,avg_power,1,,max_power,1,,total_ascent,1,,total_descent,1,,first_lap_index,1,,num_laps,1,,unknown,1,,normalized_power,1,,training_stress_score,1,,intensity_factor,1,,left_right_balance,1,,avg_stroke_distance,1,,pool_length,1,,threshold_power,1,,num_active_lengths,1,,unknown,1,,unknown,1,,avg_vertical_oscillation,1,,avg_stance_time_percent,1,,avg_stance_time,1,,unknown,1,,unknown,1,,stand_count,1,,avg_vertical_ratio,1,,avg_stance_time_balance,1,,avg_step_length,1,,event,1,,event_type,1,,sport,1,,sub_sport,1,,avg_heart_rate,1,,max_heart_rate,1,,avg_cadence,1,,max_cadence,1,,total_training_effect,1,,event_group,1,,trigger,1,,swim_stroke,1,,pool_length_unit,1,,unknown,1,,avg_fractional_cadence,1,,max_fractional_cadence,1,,total_fractional_cycles,1,,avg_left_torque_effectiveness,1,,avg_right_torque_effectiveness,1,,avg_left_pedal_smoothness,1,,avg_right_pedal_smoothness,1,,avg_combined_pedal_smoothness,1,,unknown,1,,avg_left_pco,1,,avg_right_pco,1,,avg_cadence_position,2,,max_cadence_position,2,,\nData,12,session,timestamp,\"896019812\",s,start_time,\"896018500\",,start_position_lat,\"504719919\",semicircles,start_position_long,\"-998493095\",semicircles,total_elapsed_time,\"1303.623\",s,total_timer_time,\"1303.623\",s,total_distance,\"5981.77\",m,nec_lat,\"504720460\",semicircles,nec_long,\"-998492119\",semicircles,swc_lat,\"504424374\",semicircles,swc_long,\"-999051451\",semicircles,unknown,\"Bike\",,message_index,\"0\",,total_calories,\"268\",kcal,avg_speed,\"4.589\",m/s,max_speed,\"11.365\",m/s,total_ascent,\"50\",m,total_descent,\"59\",m,first_lap_index,\"0\",,num_laps,\"2\",,event,\"9\",,event_type,\"1\",,sport,\"2\",,sub_sport,\"0\",,trigger,\"0\",,unknown,\"0\",,enhanced_avg_speed,\"4.589\",m/s,enhanced_max_speed,\"11.365\",m/s,,,,,,,,,,,,,,,,,,,,,,,,,,,,,,,,,,,,,,,,,,,,,,,,,,,,,,,,,,,,,,,,,,,,,,,,,,,,,,,,,,,,,,,,,,,,,,,,,,,,,,,,,,,,,,,,,,,,,,,,,,,,,,,,,,,,,,,,,,,,,,,,,,,,,,,,,,,,,,,,,,,\nDefinition,13,activity,timestamp,1,,total_timer_time,1,,local_timestamp,1,,num_sessions,1,,type,1,,event,1,,event_type,1,,event_group,1,,,,,,,,,,,,,,,,,,,,,,,,,,,,,,,,,,,,,,,,,,,,,,,,,,,,,,,,,,,,,,,,,,,,,,,,,,,,,,,,,,,,,,,,,,,,,,,,,,,,,,,,,,,,,,,,,,,,,,,,,,,,,,,,,,,,,,,,,,,,,,,,,,,,,,,,,,,,,,,,,,,,,,,,,,,,,,,,,,,,,,,,,,,,,,,,,,,,,,,,,,,,,,,,,,,,,,,,,,,,,,,,\nData,13,activity,timestamp,\"896019812\",,total_timer_time,\"1303.623\",s,local_timestamp,\"896005415\",,num_sessions,\"1\",,type,\"0\",,event,\"26\",,event_type,\"1\",,,,,,,,,,,,,,,,,,,,,,,,,,,,,,,,,,,,,,,,,,,,,,,,,,,,,,,,,,,,,,,,,,,,,,,,,,,,,,,,,,,,,,,,,,,,,,,,,,,,,,,,,,,,,,,,,,,,,,,,,,,,,,,,,,,,,,,,,,,,,,,,,,,,,,,,,,,,,,,,,,,,,,,,,,,,,,,,,,,,,,,,,,,,,,,,,,,,,,,,,,,,,,,,,,,,,,,,,,,,,,,,,,,\n"
     ]
    }
   ],
   "source": [
    "%%bash\n",
    "\n",
    "# YOUR CODE HERE\n",
    "tail -5 assets/ride.csv | tee solution01.txt\n"
   ]
  },
  {
   "cell_type": "code",
   "execution_count": 70,
   "metadata": {
    "deletable": false,
    "editable": false,
    "nbgrader": {
     "checksum": "1dab36213bf1567aa29cd2d12dff1102",
     "grade": true,
     "grade_id": "cell-1e37b44d1c1726b5",
     "locked": true,
     "points": 1,
     "schema_version": 1,
     "solution": false
    }
   },
   "outputs": [],
   "source": [
    "# Question 1, Check 1\n",
    "# 1 point\n",
    "\n",
    "with open('solution01.txt') as ans:\n",
    "    lines = ans.readlines()\n",
    "    \n",
    "assert len(lines) == 5, 'solution file must be 5 lines long'\n",
    "\n",
    "# There are no hidden autograder tests in this cell."
   ]
  },
  {
   "cell_type": "code",
   "execution_count": 71,
   "metadata": {
    "deletable": false,
    "editable": false,
    "nbgrader": {
     "checksum": "0dcb6e457292e2d3f6d183dff648d898",
     "grade": true,
     "grade_id": "cell-dd61bcafaa99e567",
     "locked": true,
     "points": 1,
     "schema_version": 1,
     "solution": false
    }
   },
   "outputs": [],
   "source": [
    "# Question 1, Check 2\n",
    "# 1 point\n",
    "\n",
    "# There are hidden autograder tests in this cell."
   ]
  },
  {
   "cell_type": "markdown",
   "metadata": {
    "deletable": false,
    "editable": false,
    "nbgrader": {
     "checksum": "3e8130ab9fdd96c0b224053f887e670d",
     "grade": false,
     "grade_id": "cell-becc358a5ec38b1d",
     "locked": true,
     "schema_version": 1,
     "solution": false
    }
   },
   "source": [
    "## Question 2\n",
    "Copy lines 15 through 20 from `assets/ride.csv` into a file called `solution02.txt`."
   ]
  },
  {
   "cell_type": "code",
   "execution_count": 72,
   "metadata": {
    "deletable": false,
    "nbgrader": {
     "checksum": "75abaaf85061ef26c8abad01cf7cfb63",
     "grade": false,
     "grade_id": "cell-018ef04758dd9372",
     "locked": false,
     "schema_version": 1,
     "solution": true
    },
    "tags": []
   },
   "outputs": [
    {
     "output_type": "stream",
     "name": "stdout",
     "text": [
      "Definition,6,unknown,unknown,1,,unknown,1,,unknown,1,,unknown,1,,unknown,1,,unknown,1,,unknown,1,,unknown,1,,unknown,1,,unknown,1,,unknown,1,,,,,,,,,,,,,,,,,,,,,,,,,,,,,\nData,6,unknown,unknown,\"896018500\",,unknown,\"10319\",,unknown,\"1000\",,unknown,\"0\",,unknown,\"133\",,unknown,\"51\",,unknown,\"190\",,unknown,\"1\",,unknown,\"40\",,unknown,\"188\",,unknown,\"1\",,,,,,,,,,,,,,,,,,,,,,,,,,,,,\nDefinition,7,sport,name,24,,unknown,1,,sport,1,,sub_sport,1,,unknown,1,,unknown,1,,unknown,3,,,,,,,,,,,,,,,,,,,,,,,,,,,,,,,,,,,,,,,,,\nData,7,sport,name,\"Bike\",,unknown,\"61\",,sport,\"2\",,sub_sport,\"0\",,unknown,\"1\",,unknown,\"0\",,unknown,\"0|255|0\",,,,,,,,,,,,,,,,,,,,,,,,,,,,,,,,,,,,,,,,,\nDefinition,8,record,timestamp,1,,distance,1,,altitude,1,,unknown,1,,unknown,1,,,,,,,,,,,,,,,,,,,,,,,,,,,,,,,,,,,,,,,,,,,,,,,\nData,8,record,timestamp,\"896018500\",s,distance,\"0.0\",m,altitude,\"286.0\",m,unknown,\"3930\",,unknown,\"1002\",,enhanced_altitude,\"286.0\",m,,,,,,,,,,,,,,,,,,,,,,,,,,,,,,,,,,,,,,,,,,,\n"
     ]
    }
   ],
   "source": [
    "%%bash\n",
    "\n",
    "# YOUR CODE HERE\n",
    "\n",
    "sed -n '15,20p;21q' assets/ride.csv | tee solution02.txt\n"
   ]
  },
  {
   "cell_type": "code",
   "execution_count": 73,
   "metadata": {
    "deletable": false,
    "editable": false,
    "nbgrader": {
     "checksum": "1abcbb22cadc1a850867d011b639b861",
     "grade": true,
     "grade_id": "cell-450c38d1d8739c1b",
     "locked": true,
     "points": 1,
     "schema_version": 1,
     "solution": false
    }
   },
   "outputs": [],
   "source": [
    "# Question 2, Check 1\n",
    "# 1 point\n",
    "\n",
    "with open('solution02.txt') as ans:\n",
    "    lines = ans.readlines()\n",
    "\n",
    "assert len(lines) == 6, 'solution file must be 6 lines long'\n",
    "\n",
    "# There are no hidden autograder tests in this cell."
   ]
  },
  {
   "cell_type": "code",
   "execution_count": 74,
   "metadata": {
    "deletable": false,
    "editable": false,
    "nbgrader": {
     "checksum": "7d22201ed1f819e53911b667f33cd88f",
     "grade": true,
     "grade_id": "cell-0e662ecb874254bf",
     "locked": true,
     "points": 1,
     "schema_version": 1,
     "solution": false
    }
   },
   "outputs": [],
   "source": [
    "# Question 2, Check 2\n",
    "# 1 points\n",
    "\n",
    "# There are hidden autograder tests in this cell."
   ]
  },
  {
   "cell_type": "markdown",
   "metadata": {
    "deletable": false,
    "editable": false,
    "nbgrader": {
     "checksum": "8142ae89fb76eee8e6fa290d0a170fd6",
     "grade": false,
     "grade_id": "cell-6eab243f9ed3b7f8",
     "locked": true,
     "schema_version": 1,
     "solution": false
    }
   },
   "source": [
    "## Question 3\n",
    "Copy all lines from `assets/ride.csv` that contain \"Data,10\", \"Data,11\", \"Data,12\", or \"Data,13\" into a file called `solution03.txt`. The lines in the solution should be in the same order as they appear in the ride.csv file."
   ]
  },
  {
   "cell_type": "code",
   "execution_count": 75,
   "metadata": {
    "deletable": false,
    "nbgrader": {
     "checksum": "237c100f606d96008699b8591c5ba068",
     "grade": false,
     "grade_id": "cell-da32244325922c68",
     "locked": false,
     "schema_version": 1,
     "solution": true
    }
   },
   "outputs": [
    {
     "output_type": "stream",
     "name": "stdout",
     "text": [
      "Data,11,unknown,unknown,\"896019804\",,unknown,\"0\",,unknown,\"0\",,unknown,\"0\",,unknown,\"0\",,unknown,\"660437\",,unknown,\"4\",,unknown,\"365\",,unknown,\"60\",,unknown,\"0\",,unknown,\"10\",,unknown,\"0\",,unknown,\"2\",,unknown,\"0\",,,,,,,,,,,,,,,,,,,,,,,,,,,,,,,,,,,,,,,,,,,,,,,,,,,,,,,,,,,,,,,,,,,,,,,,,,,,,,,,,,,,,,,,,,,,,,,,,,,,,,,,,,,,,,,,,,,,,,,,,,,,,,,,,,,,,,,,,,,,,,,,,,,,,,,,,,,,,,,,,,,,,,,,,,,,,,,,,,,,,,,,,,,,\nData,12,session,timestamp,\"896019812\",s,start_time,\"896018500\",,start_position_lat,\"504719919\",semicircles,start_position_long,\"-998493095\",semicircles,total_elapsed_time,\"1303.623\",s,total_timer_time,\"1303.623\",s,total_distance,\"5981.77\",m,nec_lat,\"504720460\",semicircles,nec_long,\"-998492119\",semicircles,swc_lat,\"504424374\",semicircles,swc_long,\"-999051451\",semicircles,unknown,\"Bike\",,message_index,\"0\",,total_calories,\"268\",kcal,avg_speed,\"4.589\",m/s,max_speed,\"11.365\",m/s,total_ascent,\"50\",m,total_descent,\"59\",m,first_lap_index,\"0\",,num_laps,\"2\",,event,\"9\",,event_type,\"1\",,sport,\"2\",,sub_sport,\"0\",,trigger,\"0\",,unknown,\"0\",,enhanced_avg_speed,\"4.589\",m/s,enhanced_max_speed,\"11.365\",m/s,,,,,,,,,,,,,,,,,,,,,,,,,,,,,,,,,,,,,,,,,,,,,,,,,,,,,,,,,,,,,,,,,,,,,,,,,,,,,,,,,,,,,,,,,,,,,,,,,,,,,,,,,,,,,,,,,,,,,,,,,,,,,,,,,,,,,,,,,,,,,,,,,,,,,,,,,,,,,,,,,,,\nData,13,activity,timestamp,\"896019812\",,total_timer_time,\"1303.623\",s,local_timestamp,\"896005415\",,num_sessions,\"1\",,type,\"0\",,event,\"26\",,event_type,\"1\",,,,,,,,,,,,,,,,,,,,,,,,,,,,,,,,,,,,,,,,,,,,,,,,,,,,,,,,,,,,,,,,,,,,,,,,,,,,,,,,,,,,,,,,,,,,,,,,,,,,,,,,,,,,,,,,,,,,,,,,,,,,,,,,,,,,,,,,,,,,,,,,,,,,,,,,,,,,,,,,,,,,,,,,,,,,,,,,,,,,,,,,,,,,,,,,,,,,,,,,,,,,,,,,,,,,,,,,,,,,,,,,,,,\n"
     ]
    }
   ],
   "source": [
    "%%bash\n",
    "\n",
    "# YOUR CODE HERE\n",
    "\n",
    "grep 'Data,11\\|Data,12\\|Data,13' assets/ride.csv | tee solution03.txt"
   ]
  },
  {
   "cell_type": "code",
   "execution_count": 76,
   "metadata": {
    "deletable": false,
    "editable": false,
    "nbgrader": {
     "checksum": "5b5eedb1c10817c98acfafdda575aee1",
     "grade": true,
     "grade_id": "cell-5d6d674650024aa9",
     "locked": true,
     "points": 1,
     "schema_version": 1,
     "solution": false
    }
   },
   "outputs": [],
   "source": [
    "# Question 3, Check 1\n",
    "# 1 point\n",
    "\n",
    "with open('solution03.txt') as ans:\n",
    "    lines = ans.readlines()\n",
    "\n",
    "assert len(lines) > 1, 'solution file must have more than one line'\n",
    "\n",
    "# There are no hidden autograder tests in this cell."
   ]
  },
  {
   "cell_type": "code",
   "execution_count": 77,
   "metadata": {
    "deletable": false,
    "editable": false,
    "nbgrader": {
     "checksum": "784e1c8cf0195d083e0f43d1115819f8",
     "grade": true,
     "grade_id": "cell-9d55e0dd789cd561",
     "locked": true,
     "points": 1,
     "schema_version": 1,
     "solution": false
    }
   },
   "outputs": [],
   "source": [
    "# Question 3, Check 2\n",
    "# 1 point\n",
    "\n",
    "# There are hidden autograder tests in this cell."
   ]
  },
  {
   "cell_type": "markdown",
   "metadata": {
    "deletable": false,
    "editable": false,
    "nbgrader": {
     "checksum": "589d0484317cc6f8f5864a75775b56d0",
     "grade": false,
     "grade_id": "cell-3178d2f6745c1db0",
     "locked": true,
     "schema_version": 1,
     "solution": false
    }
   },
   "source": [
    "### Question 4\n",
    "\n",
    "Count the lines from `assets/ride.csv` that contain \"Data,9\". Create a file called `solution04.txt` that has one line that contains the number of lines in ride.csv. That line should not contain anything other than the number of lines from "
   ]
  },
  {
   "cell_type": "code",
   "execution_count": 78,
   "metadata": {
    "deletable": false,
    "nbgrader": {
     "checksum": "842a939d465f853eed87b3e41156e7c4",
     "grade": false,
     "grade_id": "cell-0cf2e81e963c5402",
     "locked": false,
     "schema_version": 1,
     "solution": true
    }
   },
   "outputs": [
    {
     "output_type": "stream",
     "name": "stdout",
     "text": [
      "214\n"
     ]
    }
   ],
   "source": [
    "%%bash\n",
    "\n",
    "# YOUR CODE HERE\n",
    "\n",
    "grep 'Data,9' -c assets/ride.csv | tee solution04.txt"
   ]
  },
  {
   "cell_type": "code",
   "execution_count": 79,
   "metadata": {
    "deletable": false,
    "editable": false,
    "nbgrader": {
     "checksum": "9282d38d26a8bf27ed4ec1514e62e536",
     "grade": true,
     "grade_id": "cell-e175ee39f82440ef",
     "locked": true,
     "points": 1,
     "schema_version": 1,
     "solution": false
    }
   },
   "outputs": [],
   "source": [
    "# Question 4, Check 1\n",
    "# 1 point\n",
    "\n",
    "with open('solution04.txt') as ans:\n",
    "    lines = ans.readlines()\n",
    "\n",
    "assert len(lines) == 1, 'solution file should be 1 line long'\n",
    "\n",
    "# There are no hidden autograder tests in this cell."
   ]
  },
  {
   "cell_type": "code",
   "execution_count": 80,
   "metadata": {
    "deletable": false,
    "editable": false,
    "nbgrader": {
     "checksum": "92b0a556726de5d068788d6ac81bc01f",
     "grade": true,
     "grade_id": "cell-036ce5a0a73e018b",
     "locked": true,
     "points": 1,
     "schema_version": 1,
     "solution": false
    }
   },
   "outputs": [],
   "source": [
    "# Question 4, Check 2\n",
    "# 1 point\n",
    "\n",
    "# There are hidden autograder tests in this cell.\n",
    "\n",
    "# Checking if line 1 of solution04.txt ONLY contains the correct answer."
   ]
  },
  {
   "cell_type": "markdown",
   "metadata": {
    "deletable": false,
    "editable": false,
    "nbgrader": {
     "checksum": "a627a4a1ee010b37f56f438fdf69538a",
     "grade": false,
     "grade_id": "cell-8bde924106fa2fdc",
     "locked": true,
     "schema_version": 1,
     "solution": false
    }
   },
   "source": [
    "## Three solutions to the same problem...\n",
    "\n",
    "For Question 5, 6, 7, you will create a CSV file for each with the same content based on the data from `assets/ride.csv`. You'll use a different solution for each problem:\n",
    "  - Question 5: with shell commands\n",
    "  - Question 6: with Python (without Pandas)\n",
    "  - Question 7: with Pandas\n",
    "\n",
    "\n",
    "You'll notice that although the `ride.csv` file is a csv file, it looks a bit different than most csv files.  The first few columns are always of the form (using regular expression notation) ```\"(Data|Definition),[\\d]+,record\"```.  After those columns, the data appear as a key-value-unit triple.  For example:\n",
    "\n",
    "```\n",
    "Data,9,record,timestamp,\"896018545\",s,position_lat,\"504719750\",semicircles,position_long,\"-998493490\",semicircles,distance,\"10.87\",m,altitude,\"285.79999999999995\",m,speed,\"1.773\",m/s,unknown,\"3929\",,unknown,\"1002\",,enhanced_altitude,\"285.79999999999995\",m,enhanced_speed,\"1.773\",m/s,,,,,,,,,,,,,,,,,,,,,,,,,,,,,,,\n",
    "```\n",
    "\n",
    "In this case, you have:\n",
    "\n",
    "```\n",
    "timestamp,\"896018545\",s\n",
    "position_lat,\"504719750\",semicircles\n",
    "position_long,\"-998493490\",semicircles\n",
    "speed,\"1.773\",m/s\n",
    "```\n",
    "\n",
    "\n",
    "The data we are interested in comes from the lines in `assets/ride.csv` that start with \"Data,9,record\". \n",
    "\n",
    "For each question, you will create a CSV file with these headers, and this first file:\n",
    "\n",
    "| timestamp| latitude| longitude| distance|          altitude| speed|\n",
    "|----------|---------|----------|---------|------------------|------|\n",
    "| 896018545|504719750|-998493490|    10.87|285.79999999999995| 1.773|\n",
    "|       ...|      ...|       ...|      ...|               ...|   ...|\n",
    "|       ...|      ...|       ...|      ...|               ...|   ...|"
   ]
  },
  {
   "cell_type": "markdown",
   "metadata": {
    "deletable": false,
    "editable": false,
    "nbgrader": {
     "checksum": "2364de484979e51593c62e034c174706",
     "grade": false,
     "grade_id": "cell-54c5c80e0fe7b404",
     "locked": true,
     "schema_version": 1,
     "solution": false
    }
   },
   "source": [
    "## Question 5 - Shell\n",
    "\n",
    "Create a new file that matches the format described above.\n",
    "  - The file should be named `solution05.csv`\n",
    "  - Solve the problem using only Linux shell commands\n",
    "  \n",
    "**For this more complicated problem, the `tee` command might be more trouble than it's worth.**"
   ]
  },
  {
   "cell_type": "code",
   "execution_count": 94,
   "metadata": {
    "deletable": false,
    "nbgrader": {
     "checksum": "bc99cc89240c393cd39d763009fdfddc",
     "grade": false,
     "grade_id": "cell-3ddf21c4bdc70e67",
     "locked": false,
     "schema_version": 1,
     "solution": true
    }
   },
   "outputs": [],
   "source": [
    "%%bash\n",
    "\n",
    "# YOUR CODE HERE\n",
    "\n",
    "echo '\"timestamp\",\"latitude\",\"longitude\",\"distance\",\"altitude\",\"speed\"' > solution05.csv\n",
    "\n",
    "grep 'Data,9' assets/ride.csv | cut -d, -f 5,8,11,14,17,20 >> solution05.csv\n",
    "\n"
   ]
  },
  {
   "cell_type": "code",
   "execution_count": 96,
   "metadata": {
    "deletable": false,
    "editable": false,
    "nbgrader": {
     "checksum": "42652087e3ef821e4fc38454d5622c60",
     "grade": true,
     "grade_id": "cell-7652086039bcee15",
     "locked": true,
     "points": 1,
     "schema_version": 1,
     "solution": false
    }
   },
   "outputs": [],
   "source": [
    "# Question 5, Check 1\n",
    "# 1 point\n",
    "\n",
    "import csv\n",
    "\n",
    "def close_match(a, b):\n",
    "    return round(float(a), 3) == round(float(b), 3)\n",
    "\n",
    "def ride_csv_check1(filename):\n",
    "    with open(filename) as ans:\n",
    "        ans_reader = csv.reader(ans, delimiter=',', quotechar='\"')\n",
    "\n",
    "        header = next(ans_reader)\n",
    "        assert header[0] == 'timestamp', 'incorrect header'\n",
    "        assert header[1] == 'latitude', 'incorrect header'\n",
    "        assert header[2] == 'longitude', 'incorrect header'\n",
    "        assert header[3] == 'distance', 'incorrect header'\n",
    "        assert header[4] == 'altitude', 'incorrect header'\n",
    "        assert header[5] == 'speed', 'incorrect header'\n",
    "\n",
    "        first_line = next(ans_reader)\n",
    "        # checks values to three decimal places\n",
    "        assert close_match(first_line[0], 896018545), 'incorrect value'\n",
    "        assert close_match(first_line[1], 504719750), 'incorrect value'\n",
    "        assert close_match(first_line[2], -998493490), 'incorrect value'\n",
    "        assert close_match(first_line[3], 10.87), 'incorrect value'\n",
    "        assert close_match(first_line[4], 285.79999999999995), 'incorrect value'\n",
    "        assert close_match(first_line[5], 1.773), 'incorrect value'\n",
    "\n",
    "        \n",
    "solution_filename = 'solution05.csv'\n",
    "ride_csv_check1(solution_filename)\n",
    "# There are no hidden autograder tests in this cell."
   ]
  },
  {
   "cell_type": "code",
   "execution_count": 97,
   "metadata": {
    "deletable": false,
    "editable": false,
    "nbgrader": {
     "checksum": "affc43604881e259e8218bf47acb2848",
     "grade": true,
     "grade_id": "cell-4f3a777caf2655b5",
     "locked": true,
     "points": 1,
     "schema_version": 1,
     "solution": false
    }
   },
   "outputs": [],
   "source": [
    "# Question 5, Check 2\n",
    "# 1 point\n",
    "\n",
    "# There are hidden tests in this cell to check the solution has the correct number of rows."
   ]
  },
  {
   "cell_type": "code",
   "execution_count": 98,
   "metadata": {
    "deletable": false,
    "editable": false,
    "nbgrader": {
     "checksum": "9281dca4e9b53bab7f9fa64b56c2a7cd",
     "grade": true,
     "grade_id": "cell-c179efeff3149eea",
     "locked": true,
     "points": 12,
     "schema_version": 1,
     "solution": false
    }
   },
   "outputs": [],
   "source": [
    "# Question 5, Check 3\n",
    "# 12 points\n",
    "\n",
    "# There are hidden tests in this cell to check the solution has all the correct values for each column."
   ]
  },
  {
   "cell_type": "markdown",
   "metadata": {
    "deletable": false,
    "editable": false,
    "nbgrader": {
     "checksum": "a8cb7494f4b66ec3b4d598048ab45b20",
     "grade": false,
     "grade_id": "cell-0cfa187db77dd00c",
     "locked": true,
     "schema_version": 1,
     "solution": false
    }
   },
   "source": [
    "## Q06 - Python without Pandas\n",
    "\n",
    "Create a new file that matches the format described above:\n",
    "  - The file should be named `solution06.csv`\n",
    "  - Don't use any shell or Jupyter magic commands\n",
    "  - Solve the problem using Python\n",
    "  - You may use the Python standard library (e.g. the built-in [csv](https://docs.python.org/3/library/csv.html) package)\n",
    "  - You may NOT use third-party libraries (e.g. Pandas)"
   ]
  },
  {
   "cell_type": "code",
   "execution_count": 128,
   "metadata": {
    "deletable": false,
    "nbgrader": {
     "checksum": "e49cee79dd4560eef0265c25520e200b",
     "grade": false,
     "grade_id": "cell-e53a157e0c081aba",
     "locked": false,
     "schema_version": 1,
     "solution": true
    }
   },
   "outputs": [],
   "source": [
    "# YOUR CODE HERE\n",
    "import csv\n",
    "with open('assets/ride.csv') as csvfile:\n",
    "    f = csv.reader(csvfile, delimiter=',')\n",
    "    with open('solution06.csv', 'w') as nf:\n",
    "        nf.write('timestamp,latitude,longitude,distance,altitude,speed\\n')\n",
    "        w = csv.writer(nf)\n",
    "        for row in f:\n",
    "            if row[0] == 'Data' and row[1] == '9':\n",
    "                w.writerow((row[4], row[7], row[10], row[13], row[16], row[19]))\n",
    "    nf.close()\n",
    "    \n"
   ]
  },
  {
   "cell_type": "code",
   "execution_count": 129,
   "metadata": {
    "deletable": false,
    "editable": false,
    "nbgrader": {
     "checksum": "e93b1c7ae41041671ab4e6436bfbac5c",
     "grade": true,
     "grade_id": "cell-q652086039bcee15",
     "locked": true,
     "points": 1,
     "schema_version": 1,
     "solution": false
    }
   },
   "outputs": [],
   "source": [
    "# Question 6, Check 1\n",
    "# 1 point\n",
    "\n",
    "# note that this function is defined in the cell for Question 5, Check 1 above\n",
    "solution_filename = 'solution06.csv'\n",
    "ride_csv_check1(solution_filename)\n",
    "# There are no hidden autograder tests in this cell."
   ]
  },
  {
   "cell_type": "code",
   "execution_count": 124,
   "metadata": {
    "deletable": false,
    "editable": false,
    "nbgrader": {
     "checksum": "165ad7540d46a93e1fdf6aad4a3302e1",
     "grade": true,
     "grade_id": "cell-q63a777caf2655b5",
     "locked": true,
     "points": 1,
     "schema_version": 1,
     "solution": false
    }
   },
   "outputs": [],
   "source": [
    "# Question 6, Check 2\n",
    "# 1 point\n",
    "\n",
    "# There are hidden tests in this cell to check the solution has the correct number of rows."
   ]
  },
  {
   "cell_type": "code",
   "execution_count": 125,
   "metadata": {
    "deletable": false,
    "editable": false,
    "nbgrader": {
     "checksum": "e7c5d74086b1b01e68d55dea721c7177",
     "grade": true,
     "grade_id": "cell-q679efeff3149eea",
     "locked": true,
     "points": 12,
     "schema_version": 1,
     "solution": false
    }
   },
   "outputs": [],
   "source": [
    "# Question 6, Check 3\n",
    "# 12 points\n",
    "\n",
    "# There are hidden tests in this cell to check the solution has all the correct values for each column."
   ]
  },
  {
   "cell_type": "markdown",
   "metadata": {
    "deletable": false,
    "editable": false,
    "nbgrader": {
     "checksum": "e5a48e520f77c1283e6496732c5d4618",
     "grade": false,
     "grade_id": "cell-d6d34952e5196e7c",
     "locked": true,
     "schema_version": 1,
     "solution": false
    }
   },
   "source": [
    "## Q07 -  Pandas\n",
    "\n",
    "Create a new file that matches the format described above:\n",
    "  - The file should be named `solution07.csv`\n",
    "  - Don't use any shell or Jupyter magic commands\n",
    "  - Solve the problem using functionality provided by the Pandas library in Python"
   ]
  },
  {
   "cell_type": "code",
   "execution_count": 156,
   "metadata": {
    "deletable": false,
    "nbgrader": {
     "checksum": "c13da9a53ad81322b12019b08dfb0e01",
     "grade": false,
     "grade_id": "cell-184c965f0270227f",
     "locked": false,
     "schema_version": 1,
     "solution": true
    }
   },
   "outputs": [],
   "source": [
    "import pandas as pd\n",
    "field_l = [4,7,10,13,16,19]\n",
    "df = pd.read_csv(\"assets/ride.csv\")\n",
    "boo = df['Type'] == 'Data' \n",
    "df = df[boo]\n",
    "boo2 =  df['Local Number'] == 9\n",
    "df = df[boo2].iloc[:, [4, 7, 10, 13, 16, 19]]\n",
    "df = df.rename(columns={'Value 1':'timestamp','Value 2':'latitude', 'Value 3':'longitude', 'Value 4':'distance', 'Value 5':'altitude', 'Value 6':'speed'}).reset_index(drop=True)\n",
    "df.to_csv('solution07.csv', index=False)\n",
    "\n",
    "\n",
    "# YOUR CODE HERE\n",
    "\n"
   ]
  },
  {
   "cell_type": "code",
   "execution_count": 157,
   "metadata": {
    "deletable": false,
    "editable": false,
    "nbgrader": {
     "checksum": "89cd46f3c2fef4556cae45c7146a67aa",
     "grade": true,
     "grade_id": "cell-q752086039bcee15",
     "locked": true,
     "points": 1,
     "schema_version": 1,
     "solution": false
    }
   },
   "outputs": [],
   "source": [
    "# Question 7, Check 1\n",
    "# 1 point\n",
    "\n",
    "# note that this function is defined in the cell for Question 5, Check 1 above\n",
    "solution_filename = 'solution07.csv'\n",
    "ride_csv_check1(solution_filename)\n",
    "# There are no hidden autograder tests in this cell."
   ]
  },
  {
   "cell_type": "code",
   "execution_count": 158,
   "metadata": {
    "deletable": false,
    "editable": false,
    "nbgrader": {
     "checksum": "a0c5e1f23b0ee800c7569259a2c40514",
     "grade": true,
     "grade_id": "cell-q73a777caf2655b5",
     "locked": true,
     "points": 1,
     "schema_version": 1,
     "solution": false
    }
   },
   "outputs": [],
   "source": [
    "# Question 7, Check 2\n",
    "# 1 point\n",
    "\n",
    "# There are hidden tests in this cell to check the solution has the correct number of rows."
   ]
  },
  {
   "cell_type": "code",
   "execution_count": 159,
   "metadata": {
    "deletable": false,
    "editable": false,
    "nbgrader": {
     "checksum": "3c293f5b43afbbddbf76e50b43fafac1",
     "grade": true,
     "grade_id": "cell-q779efeff3149eea",
     "locked": true,
     "points": 12,
     "schema_version": 1,
     "solution": false
    }
   },
   "outputs": [],
   "source": [
    "# Question 7, Check 3\n",
    "# 12 points\n",
    "\n",
    "# There are hidden tests in this cell to check the solution has all the correct values for each column."
   ]
  },
  {
   "cell_type": "code",
   "execution_count": null,
   "metadata": {},
   "outputs": [],
   "source": []
  }
 ],
 "metadata": {
  "coursera": {
   "schema_names": [
    "mads_efficient_data_processing_v3_assignment1"
   ]
  },
  "kernelspec": {
   "display_name": "Python 3",
   "language": "python",
   "name": "python3"
  },
  "language_info": {
   "codemirror_mode": {
    "name": "ipython",
    "version": 3
   },
   "file_extension": ".py",
   "mimetype": "text/x-python",
   "name": "python",
   "nbconvert_exporter": "python",
   "pygments_lexer": "ipython3",
   "version": "3.7.9-final"
  }
 },
 "nbformat": 4,
 "nbformat_minor": 2
}