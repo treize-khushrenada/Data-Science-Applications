{
 "metadata": {
  "language_info": {
   "codemirror_mode": {
    "name": "ipython",
    "version": 3
   },
   "file_extension": ".py",
   "mimetype": "text/x-python",
   "name": "python",
   "nbconvert_exporter": "python",
   "pygments_lexer": "ipython3",
   "version": "3.7.9-final"
  },
  "orig_nbformat": 2,
  "kernelspec": {
   "name": "python3",
   "display_name": "Python 3.7.9 64-bit ('study notes': pipenv)",
   "metadata": {
    "interpreter": {
     "hash": "388315bd7c39d924161dfd1987afd1f69797c9f49ac61e660c82770e887ddc23"
    }
   }
  }
 },
 "nbformat": 4,
 "nbformat_minor": 2,
 "cells": [
  {
   "source": [
    "week 1 assignment"
   ],
   "cell_type": "markdown",
   "metadata": {}
  },
  {
   "cell_type": "code",
   "execution_count": 66,
   "metadata": {},
   "outputs": [],
   "source": [
    "import pandas as pd\n",
    "import numpy as np\n",
    "from scipy.ndimage import zoom\n",
    "import unittest"
   ]
  },
  {
   "source": [
    "1.1 [1 pt] Please write a function called computation that takes three variables called a(integer), v1(vector represented as a list) and v2(vector represented as a list) and returns a dictionary that has six keys: addition (the sum of v1 and v2, this should be a numpy array), subtraction (the difference from subtracting v2 from v1, this should be a numpy array), scale (scalling v1 by a, this should be a numpy array), dot (dot product of v1 and v2, this should be a float), length (norm of v1, this should be a float), and cross (cross product of v1 and v2, this should be a numpy array)."
   ],
   "cell_type": "markdown",
   "metadata": {}
  },
  {
   "cell_type": "code",
   "execution_count": 31,
   "metadata": {},
   "outputs": [
    {
     "output_type": "execute_result",
     "data": {
      "text/plain": [
       "{'addition': array([5, 7, 9]),\n",
       " 'substraction': array([-3, -3, -3]),\n",
       " 'scale': array([ 5, 10, 15]),\n",
       " 'dot': 32,\n",
       " 'length': 3.7416573867739413,\n",
       " 'cross': array([-3,  6, -3])}"
      ]
     },
     "metadata": {},
     "execution_count": 31
    }
   ],
   "source": [
    "v1 = np.array([1, 2, 3])\n",
    "v2 = np.array([4, 5, 6])\n",
    "a = 5\n",
    "\n",
    "com_add = np.add(v1, v2)\n",
    "com_sub = np.subtract(v1, v2)\n",
    "com_scale = v1 * a\n",
    "com_dot = np.dot(v1, v2)\n",
    "com_length = np.linalg.norm(v1)\n",
    "com_cross = np.cross(v1, v2)\n",
    "res = {'addition':com_add , 'substraction':com_sub, 'scale':com_scale, 'dot':com_dot, 'length':com_length, 'cross':com_cross}\n",
    "res"
   ]
  },
  {
   "source": [
    "1.2 [1 pt] What is the dimension of v3? Please store the v3 dimension into variable v3_dimen using numpy.\n",
    "\n",
    "For grading purposes, v2_dimen should be type tuple."
   ],
   "cell_type": "markdown",
   "metadata": {}
  },
  {
   "cell_type": "code",
   "execution_count": null,
   "metadata": {},
   "outputs": [],
   "source": [
    "v3 = np.array([5, 4])\n",
    "v3_dimen= v3.shape\n",
    "v3_dimen"
   ]
  },
  {
   "cell_type": "code",
   "execution_count": 32,
   "metadata": {},
   "outputs": [
    {
     "output_type": "execute_result",
     "data": {
      "text/plain": [
       "(5,)"
      ]
     },
     "metadata": {},
     "execution_count": 32
    }
   ],
   "source": [
    "v4 = np.array([1,  2,  3, 4, 5])\n",
    "\n",
    "v4_dimen= v4.shape\n",
    "v4_dimen"
   ]
  },
  {
   "cell_type": "code",
   "execution_count": null,
   "metadata": {},
   "outputs": [],
   "source": [
    "added= ['5 * a + 3 * b', '11']"
   ]
  },
  {
   "cell_type": "code",
   "execution_count": 45,
   "metadata": {},
   "outputs": [],
   "source": [
    "def Matrices(A,B):\n",
    "    m_add = np.add(A, B)\n",
    "    m_sub = np.subtract(A, B)\n",
    "    m_mul = np.dot(A, B)\n",
    "    m_ele_mul = np.multiply(A, B)\n",
    "    res = {'addition':m_add , 'substraction':m_sub, 'multiplication':m_mul, 'elementwise':m_ele_mul}\n",
    "    #raise NotImplementedError()\n",
    "    return res"
   ]
  },
  {
   "cell_type": "code",
   "execution_count": 48,
   "metadata": {},
   "outputs": [],
   "source": [
    "A = np.array([-2,6,8,5,-2,8,2,1,4])\n",
    "B = np.array([10,-4,6,1,8,-3,8,-2,4])\n",
    "ANS22 = Matrices(A,B)"
   ]
  },
  {
   "cell_type": "code",
   "execution_count": 49,
   "metadata": {},
   "outputs": [
    {
     "output_type": "execute_result",
     "data": {
      "text/plain": [
       "{'addition': array([ 8,  2, 14,  6,  6,  5, 10, -1,  8]),\n",
       " 'substraction': array([-12,  10,   2,   4, -10,  11,  -6,   3,   0]),\n",
       " 'multiplication': -1,\n",
       " 'elementwise': array([-20, -24,  48,   5, -16, -24,  16,  -2,  16])}"
      ]
     },
     "metadata": {},
     "execution_count": 49
    }
   ],
   "source": [
    "ANS22"
   ]
  },
  {
   "cell_type": "code",
   "execution_count": 50,
   "metadata": {},
   "outputs": [],
   "source": [
    "C = np.array([[1, 1, 2], [3, 5, 8]])\n",
    "\n",
    "C_trans=C.T"
   ]
  },
  {
   "cell_type": "code",
   "execution_count": 51,
   "metadata": {},
   "outputs": [
    {
     "output_type": "execute_result",
     "data": {
      "text/plain": [
       "array([[1, 3],\n",
       "       [1, 5],\n",
       "       [2, 8]])"
      ]
     },
     "metadata": {},
     "execution_count": 51
    }
   ],
   "source": [
    "C_trans"
   ]
  },
  {
   "cell_type": "code",
   "execution_count": 57,
   "metadata": {},
   "outputs": [
    {
     "output_type": "execute_result",
     "data": {
      "text/plain": [
       "(2, 3)"
      ]
     },
     "metadata": {},
     "execution_count": 57
    }
   ],
   "source": [
    "C.shape"
   ]
  },
  {
   "cell_type": "code",
   "execution_count": 52,
   "metadata": {},
   "outputs": [],
   "source": [
    "D = np.array([[13], [21], [34]])\n"
   ]
  },
  {
   "cell_type": "code",
   "execution_count": 58,
   "metadata": {},
   "outputs": [
    {
     "output_type": "execute_result",
     "data": {
      "text/plain": [
       "(3, 1)"
      ]
     },
     "metadata": {},
     "execution_count": 58
    }
   ],
   "source": [
    "D.shape"
   ]
  },
  {
   "cell_type": "code",
   "execution_count": 59,
   "metadata": {},
   "outputs": [],
   "source": [
    "CD_trans= np.dot(C, D).T"
   ]
  },
  {
   "cell_type": "code",
   "execution_count": 56,
   "metadata": {},
   "outputs": [
    {
     "output_type": "execute_result",
     "data": {
      "text/plain": [
       "array([[102],\n",
       "       [416]])"
      ]
     },
     "metadata": {},
     "execution_count": 56
    }
   ],
   "source": [
    "CD_trans"
   ]
  },
  {
   "cell_type": "code",
   "execution_count": 60,
   "metadata": {},
   "outputs": [
    {
     "output_type": "execute_result",
     "data": {
      "text/plain": [
       "array([[ 2.5625, -0.25  , -0.0625],\n",
       "       [-1.4375,  0.75  , -0.0625],\n",
       "       [-0.0625, -0.25  ,  0.0625]])"
      ]
     },
     "metadata": {},
     "execution_count": 60
    }
   ],
   "source": [
    "E = np.array([[1, 1, 2], [3, 5, 8], [13, 21, 50]])\n",
    "E_inv = np.linalg.inv(E)\n",
    "E_inv "
   ]
  },
  {
   "cell_type": "code",
   "execution_count": 61,
   "metadata": {},
   "outputs": [
    {
     "output_type": "execute_result",
     "data": {
      "text/plain": [
       "79.99999999999997"
      ]
     },
     "metadata": {},
     "execution_count": 61
    }
   ],
   "source": [
    "BA = Matrices(B,A)['multiplication']\n",
    "BA_deter = np.linalg.det(BA)"
   ]
  },
  {
   "cell_type": "code",
   "execution_count": 70,
   "metadata": {},
   "outputs": [
    {
     "output_type": "execute_result",
     "data": {
      "text/plain": [
       "66"
      ]
     },
     "metadata": {},
     "execution_count": 70
    }
   ],
   "source": [
    "A = np.array([[-2,6,8],[5,-2,8],[2,1,4]])\n",
    "B = np.array([[10,-4,6],[1,8,-3],[8,-2,4]])\n",
    "\n",
    "trace2A3B = np.add(A*2, B*3).trace()\n",
    "trace2A3B"
   ]
  },
  {
   "cell_type": "code",
   "execution_count": 74,
   "metadata": {},
   "outputs": [
    {
     "output_type": "execute_result",
     "data": {
      "text/plain": [
       "23"
      ]
     },
     "metadata": {},
     "execution_count": 74
    }
   ],
   "source": [
    "AB = Matrices(A,B)['multiplication']\n",
    "AB_trace = AB.T.trace()\n",
    "AB_trace"
   ]
  },
  {
   "cell_type": "code",
   "execution_count": null,
   "metadata": {},
   "outputs": [],
   "source": [
    "𝐹=[[1,2,𝑎],[3,2,1+𝑏],[2,2,2+𝑐]] \n",
    "𝐺=[[0,2+𝑐,−𝑎],[3,𝑏+𝑐,−1],[𝑎,3,−𝑏]]\n",
    "product\n",
    "[0, 6, -a*b]. [6+2*c, 2*b+2*c, -3*b - b^2], [-a^2, -a, -a*b]"
   ]
  },
  {
   "cell_type": "code",
   "execution_count": null,
   "metadata": {},
   "outputs": [],
   "source": [
    "'''\n",
    "product of 3x3 matrices\n",
    "\n",
    "1,2,𝑎\n",
    "3,2,1+𝑏\n",
    "2,2,2+𝑐\n",
    "\n",
    "\n",
    "1(2(2+c) - (1+b)(2)) - 2(3(2+c) - 2(1+b)) + a(3(2) - 2(2))\n",
    "= 2+2*c+2*b -2 (6 + 3*c - 2 - 2*b) + 2*a\n",
    "= 2+2*c+2*b - 12 - 6*b + 4 +4*b +2*a\n",
    "= 2*a+2*c-6  \n",
    "\n",
    "'''\n"
   ]
  },
  {
   "source": [
    "VALIDATION FAILED ON 4 CELL(S)! If you submit your assignment as it is, you WILL NOT receive full credit.\n",
    "==========================================================================================\n",
    "The following cell failed:\n",
    "\n",
    "1 assert type(Prod_FG) == str, \"Problem 3.2, type of value stored in variable Prod_FG does not match the expected type.\"\n",
    "* HIDDEN TESTS\n",
    "\n",
    "The error was:\n",
    "    ---------------------------------------------------------------------------\n",
    "    AssertionError                            Traceback (most recent call last)\n",
    "    <ipython-input-36-6a26ac582827> in <module>\n",
    "         * HIDDEN TESTS\n",
    "    \n",
    "    AssertionError: Problem 3.2, testing Prod_FG, actual vs expected values differ\n",
    "\n",
    "==\n",
    "The following cell failed:\n",
    "\n",
    "1 assert type(Trace_FG) == str, \"Problem 3.5, type of value stored in variable Trace_FG does not match the expected type.\"\n",
    "* HIDDEN TESTS\n",
    "\n",
    "The error was:\n",
    "    ---------------------------------------------------------------------------\n",
    "    AssertionError                            Traceback (most recent call last)\n",
    "    <ipython-input-42-459b298ecf38> in <module>\n",
    "         * HIDDEN TESTS\n",
    "    \n",
    "    AssertionError: Problem 3.5, testing Trace_FG, actual vs expected values differ\n",
    "\n",
    "==========================================================================================\n",
    "The following cell failed:\n",
    "\n",
    "1 assert type(Trace_FTGT) == str, \"Problem 3.6, type of value stored in variable Trace_FTGT does not match the expected type.\"\n",
    "* HIDDEN TESTS\n",
    "\n",
    "The error was:\n",
    "    ---------------------------------------------------------------------------\n",
    "    AssertionError                            Traceback (most recent call last)\n",
    "    <ipython-input-44-0c6d0941f059> in <module>\n",
    "         * HIDDEN TESTS\n",
    "    \n",
    "    AssertionError: Problem 3.6, string not properly formatted python code or uses undefined vari"
   ],
   "cell_type": "markdown",
   "metadata": {}
  }
 ]
}